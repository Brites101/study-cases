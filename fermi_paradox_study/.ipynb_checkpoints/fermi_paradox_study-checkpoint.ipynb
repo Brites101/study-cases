{
 "cells": [
  {
   "cell_type": "markdown",
   "metadata": {},
   "source": [
    "\n",
    "Here are the main ideas for this study case. Remember to make it fun, engaging and good looking! This study is an idea based on Lee Vaughan's book for python projects. In this version we will update the original idea, go a bit deeper in the statistical analysis and make it more readable, by making it a Jupyter notebook.\n"
   ]
  },
  {
   "cell_type": "markdown",
   "metadata": {},
   "source": [
    "## To Do\n",
    "\n",
    "1. **Describe Problem**\n",
    "\n",
    "2. **Setup Strategy**\n",
    "    1. Drake equation to estimate transmiting civilizations\n",
    "    2. Choose range (setup widget to play with it)\n",
    "    3. Generate formula to measeure probability\n",
    "    5. Graphical Model\n",
    "    \n",
    "3. **Set Up Next Steps (brianstorm)**\n",
    "    - Better visualization\n",
    "    - Documentation and description"
   ]
  },
  {
   "cell_type": "markdown",
   "metadata": {},
   "source": [
    "# The Problem\n",
    "\n",
    "Ok, here is the problem: The observable universe is about 93 billion lightyears in diameter, with about 10⁸ galaxies, each with about 10¹² stars. **That is a lot of stars.** And we know that starts are a great indicator of the existance of planets. By the results of 2013's Kepler Space Mission, there could be as much as  4x10⁸ Earth-sized planets orbiting in the habitable zones of sun-like stars within the Milky Way Galaxy, out of which [11*10⁷ may be directly orbiting such sun-like stars](https://www.latimes.com/science/la-sci-earth-like-planets-20131105-story.html). This all results into a number of planets simply *too unconceively big for me to attempt a description*.\n",
    "\n",
    "With this ludacris high number of planets, there should be plenty of opportunities for life to exist, develop and thrive, right? Shouldn't we be able to detect life, if the opportunities are so vast?\n",
    "\n",
    "This is the **[Fermi paradox](https://en.wikipedia.org/wiki/Fermi_paradox)**, an apparent contradiction, described by physicist Enrico Fermi, between the lack of evidence for extraterrestrial civilizations and various high estimates for their probability. A very skpetical look at physicists and biologists that have made models for extraterrestrial life, which constantly yeld very high results, despite no reliable evidence being found.\n",
    "<br>\n",
    "<br>\n",
    ">## \"*If they were out there, they would be here*.\"\n",
    "> ## -Enrico Fermi\n",
    "\n",
    "<br>\n",
    "In this notebook we will try to model this paradox and attempt to calculate the probability of extraterrestrial life based on the most famous probabilistic argument for civilized life-form existance (the one i wrote in the beggining 😉).\n",
    "\n",
    "---"
   ]
  },
  {
   "cell_type": "markdown",
   "metadata": {},
   "source": [
    "# Plan of Attack\n",
    "\n"
   ]
  },
  {
   "cell_type": "markdown",
   "metadata": {},
   "source": [
    "Turns out modeling the universe is not easy (citation needed). So there are some approximations that we must do in our analysis, the three big ones are as follows.\n",
    "\n",
    "#### **1. Local Constrains**\n",
    "\n",
    "Other galaxies may very well be brimming with spaceships, interplantery trade and whatnot. We would have no ways of properly confirm it, much less interact with it. Because of the expansion of the universe, anything outside our direct galatic neighborhood (aka Local Group) is getting farther aways from us very fast. even if we had extremely fast space tansportation it would take, literally, billions of years to reach any other nearby galaxy. More than enough time for this ships's population to evolve into their own separe species, with a new model of civilization, a religion that worships the ancient gods that built the ship, all while completely forgetting their original mission.\n",
    "\n",
    "That is why we will focus our analysis only on the Local Group. More specifically, the Milky Way. Our home galaxy has over 4x10⁶ stars besides our own, which more than half could be classified as \"sun-like\", while at least 20% have a earth-like planet orbiting them. That is more than enough places for life to start.\n",
    "\n",
    "#### **2. Match in time**\n",
    "\n",
    "Meeting extraterrestrial life is not only hard because space is big, but also because it is **old**. The Milky Way is [over 13x10⁶ years old](https://www.space.com/263-milky-age-narrowed.html). Since earth is just 4x10⁶ years old, and humankind has just started emitting detectable radiation outwards Earth. It is pretty easy to imagine that many civilizations at least as advanced as ours have existed, we just haven't found each other in time.\n",
    "\n",
    "For now, we are only interest in civilizations who's signs of existance (radiation emission) are detectable today, so we will not go deep into time dimensionality. I apologize to the eager xenoarcheologists reading this."
   ]
  },
  {
   "cell_type": "markdown",
   "metadata": {},
   "source": [
    "#### **3. Galatic Topology**\n",
    "\n",
    "<img style=\"float: right;margin-left:50px\" src=\"fig1_galaxy.png\" width=\"45%\"/>\n",
    "\n",
    "For us to encounter life, the shape of the galaxy matters are a lot. Its much easier to find other planets if they are equally present in any direction, rather than in a single small angle. Fortunately, our galaxy has a spiral shape as many other galaxies. According to the [Encyclopaedia Britannnica](https://www.britannica.com/place/Milky-Way-Galaxy/The-structure-and-dynamics-of-the-Milky-Way-Galaxy) This structure can be viewed as consisting of six separate parts: (1) a nucleus, (2) a central bulge, (3) a disk, (4) spiral arms, (5) a spherical component, and (6) a massive halo.\n",
    "\n",
    "The center of the galaxy is fairly inhospitable to life as we know given the high levels of radiation, while the edge are considerably thinner than the center. So, in this model, we will ssume that the higher volume in the center compensates for the thinner edges, resulting in **the galaxy being a simple disk**, as shown in the image\n",
    "\n",
    "---"
   ]
  },
  {
   "cell_type": "markdown",
   "metadata": {},
   "source": [
    "# Drake Equation"
   ]
  },
  {
   "cell_type": "markdown",
   "metadata": {},
   "source": [
    "Space is big and old *(citation needed)*. There are a lot of galaxies, hence a lot o stars, hence a lot of planets. Therefore, is likely that life exists elsewhere. This is the gist of probabilistic argument made by Dr. Frank Drake, the same stated in the first paragraph of this notebook.\n",
    "\n",
    "Drake proposed an equation to stimulate scientific dialogue around extraterrestrial life. even though it is recordedly not the objective of his argument, we will use his equations to estimate the number of active, communicative extraterrestrial civilizations in the Milky Way.\n",
    "\n",
    "The [Drake Equation](https://en.wikipedia.org/wiki/Drake_equation) is: \\begin{equation*}\n",
    "N   = R_* \\times  f_p  \\times  n_e  \\times  f_1  \\times  f_i  \\times  f_c  \\times  L\n",
    "\\end{equation*}\n",
    "\n",
    "    N = The number of civilizations in our galaxy whose electromagnetic emissions are detectable (Our target)\n",
    "    R∗ = the average rate of star formation in our galaxy (new stars per year)\n",
    "    fₚ = the fraction of those stars that have planets\n",
    "    nₑ = the average number of planets that can potentially support life per star that have planets\n",
    "    fₗ = the fraction of planets that could support life that actually develop life at some point\n",
    "    fᵢ = the fraction of planets with life that actually go on to develop a civilization\n",
    "    fc = the fraction of civilizations that develop a technology that releases detectable signs of their existence into space\n",
    "    L = the length of time, in years, over which such civilizations release detectable signals into space\n",
    "    \n",
    "<div class=\"alert alert-block alert-info\"><b>Hey, listen!</b> I suggest you take some time to read this equation and understand the variables, since we will not go very deep into each of their values.</div>\n",
    "   "
   ]
  },
  {
   "cell_type": "code",
   "execution_count": 8,
   "metadata": {},
   "outputs": [
    {
     "data": {
      "text/html": [
       "<style>\n",
       "table {float:left} #TODO fix margin in table below\n",
       "</style>\n"
      ],
      "text/plain": [
       "<IPython.core.display.HTML object>"
      ]
     },
     "metadata": {},
     "output_type": "display_data"
    }
   ],
   "source": [
    "%%html\n",
    "<style>\n",
    "table {float:left} #TODO fix margin in table below\n",
    "</style>"
   ]
  },
  {
   "cell_type": "markdown",
   "metadata": {},
   "source": [
    "Variable  | Estimative\n",
    "------------- | -------------\n",
    "R* | 3\n",
    "fₚ | 1\n",
    "nₑ | 0.2\n",
    "fₗ  | 0.13\n",
    "fᵢ  | 1\n",
    "fc  | 0.2\n",
    "L  | 10⁹\n",
    "\n",
    "Thanks to advances in exoplanet detection the three begging arguments, *R∗*, *fₚ* and *nₑ*, are considerably constrained. You can find better details regarding each of their estimatives in their [wikipedia page](https://en.wikipedia.org/wiki/Drake_equation)\n",
    "\n",
    "For the remaining terms, our only reasonable option is to emulate Earth, since is our only example for planet with life. Earth is [4.510⁶ years old](https://www.space.com/24854-how-old-is-earth.html), our species have only been present for [2*10⁵ years](https://www2.palomar.edu/anthro/homo2/mod_homo_4.htm), civilization started only about 6*10³ years, out of which we only emitted detected radiation (radio signals) for [about 112 years](https://en.wikipedia.org/wiki/History_of_radio).\n",
    "\n",
    "L is the tricky one to estimate. Calamities have destroyed many human civilizations before, but these are not valid examples, since L probably grows drastically after a civilization develops enough to survive or contain most hazards. This value may increase even more if organic civilizations is not needed to emmit signals. The value of L may greatly vary from interpretation, as a default we will use a very optmistic 10⁹.\n",
    "\n",
    "Let us store these values in a dataframe and, in the widget below, you can play with the values of our estimative and the original Drake's estimatives to see how they affect N."
   ]
  },
  {
   "cell_type": "code",
   "execution_count": 12,
   "metadata": {},
   "outputs": [],
   "source": [
    "import numpy as np\n",
    "import pandas as pd\n",
    "import seaborn as sns\n",
    "from random import randint\n",
    "import ipywidgets as widgets\n",
    "from collections import Counter\n",
    "from matplotlib import pyplot as plt\n",
    "from ipywidgets import Button, HBox, VBox"
   ]
  },
  {
   "cell_type": "code",
   "execution_count": 13,
   "metadata": {},
   "outputs": [],
   "source": [
    "drake = {'variable': [\"r\", \"fp\", \"ne\", \"fl\",\"fi\",\"fc\",\"l\"],\n",
    "            'og_est': [1.0, 0.35, 3.0, 1.0, 1.0, 0.15, 50000000],\n",
    "           'upd_est':[3.0, 1.0, 0.2, 0.13, 1.0, 0.2, 1000000000]}\n",
    "drake_df = pd.DataFrame(data=drake)\n",
    "drake_df = drake_df.set_index('variable')"
   ]
  },
  {
   "cell_type": "code",
   "execution_count": 17,
   "metadata": {},
   "outputs": [
    {
     "data": {
      "application/vnd.jupyter.widget-view+json": {
       "model_id": "e96bd7ad6a23461daa119ab06fba7b9b",
       "version_major": 2,
       "version_minor": 0
      },
      "text/plain": [
       "HBox(children=(VBox(children=(FloatSlider(value=3.0, description='R*', max=3.0, min=1.0), FloatSlider(value=1.…"
      ]
     },
     "metadata": {},
     "output_type": "display_data"
    }
   ],
   "source": [
    "#Set of widgets for variables\n",
    "\n",
    "caption = widgets.Label(value='Play around with the variables to see how N changes!')   \n",
    "\n",
    "r = widgets.FloatSlider(value=drake_df.upd_est.r,\n",
    "                         min=1.0,\n",
    "                         max=3.0,\n",
    "                         step=0.1,\n",
    "                         description=\"R*\")\n",
    "\n",
    "fp = widgets.FloatSlider(value=drake_df.upd_est.fp,\n",
    "                         min=0.35,\n",
    "                         max=1.0,\n",
    "                         step=0.05,\n",
    "                         description=\"fp\")\n",
    "\n",
    "ne = widgets.FloatSlider(value=0.2, #TODO get this value from drake_df\n",
    "                         min=0.2,\n",
    "                         max=3.0,\n",
    "                         step=0.1,\n",
    "                         description=\"ne\")\n",
    "\n",
    "fl = widgets.FloatSlider(value=drake_df.upd_est.fl,\n",
    "                         min=0.1,\n",
    "                         max=1.0,\n",
    "                         step=0.05,\n",
    "                         description=\"fl\")\n",
    "\n",
    "fi = widgets.FloatSlider(value=drake_df.upd_est.fi,\n",
    "                         min=0.5,\n",
    "                         max=1.5,\n",
    "                         step=0.05,\n",
    "                         description=\"fi\")\n",
    "\n",
    "fc = widgets.FloatSlider(value=drake_df.upd_est.fc,\n",
    "                         min=0.10,\n",
    "                         max=0.30,\n",
    "                         step=0.05,\n",
    "                         description=\"fc\",)\n",
    "\n",
    "l = widgets.FloatSlider(value=drake_df.upd_est.l,\n",
    "                         min=5000000.0,\n",
    "                         max=1000000000.0,\n",
    "                         step=5000000,\n",
    "                         description=\"l\")\n",
    "\n",
    "#Widget to Display N\n",
    "n = widgets.Text(\n",
    "    value= str(int(r.value * fp.value * ne.value * fl.value * fi.value * fc.value * l.value)) + \" civilizations\" ,\n",
    "    description='Estimated N:',\n",
    "    disabled=True)\n",
    "\n",
    "#Auto Update N when variables change\n",
    "def on_value_change(change):\n",
    "    n.value = str(int(r.value * fp.value * ne.value * fl.value * fi.value * fc.value * l.value)) + \" civilizations\" \n",
    "\n",
    "r.observe(on_value_change)\n",
    "fp.observe(on_value_change)\n",
    "ne.observe(on_value_change)\n",
    "fl.observe(on_value_change)\n",
    "fi.observe(on_value_change)\n",
    "fc.observe(on_value_change)\n",
    "l.observe(on_value_change)\n",
    "\n",
    "#Styling for widget display\n",
    "left_box = VBox([r, fp, ne,fl])\n",
    "right_box = VBox([ fi,fc,l,n])\n",
    "HBox([left_box, right_box])"
   ]
  },
  {
   "cell_type": "markdown",
   "metadata": {},
   "source": [
    "# Defining the Probability\n",
    "\n",
    "\n",
    "Ok, we undestand how all these variables relate in the Drake Equation to estimate the total number of civilizations. We can also intuitively understand that the more civilizations there are in the galaxy, more likely it is for us to find them. But how can we assign a probability to us finding said civilizations?"
   ]
  },
  {
   "cell_type": "markdown",
   "metadata": {},
   "source": [
    "### Signal Range\n",
    "\n",
    "The main form of signal that Earth sends to space are Radio waves. Think of all the radio signal that leaks Earth as an expanding sphere around earth where other civilizations could capture said signal, deduce our existence and listen to \"Old Town Road\" *ad infinitum* like us. Well, maybe not. even though this \"Radio Bubble\" is about 225 lightyears in diameter, a big portion of it have such a low power density, due to it's expanding area, that it is pretty hard to distinguish it from background noise. That is why we will consider a detectable size for our bubble, which, with our current best technology, the radio telescopes of the *[Breakthrough Listen Project](https://en.wikipedia.org/wiki/Breakthrough_Listen)*, is about 16 lightyears.\n",
    "\n",
    "For this model, we will assume that other civilizations hava technology similar to our own, and therefore are able to capture signals at this same distance. But we will try to investigate how this variable will affect the overall model, which bubbles ranging from 16 to 225 Lightyears."
   ]
  },
  {
   "cell_type": "markdown",
   "metadata": {},
   "source": [
    "### Generating the probability formula\n"
   ]
  },
  {
   "cell_type": "markdown",
   "metadata": {},
   "source": [
    "One approach here would be to make a 3D model of the Milky Way in the disc model we previously stablished, randomly distribute civilizations throughout and measure the distances between them. But with the amount of planets to distribute and computational power used here, this is not viable.\n",
    "\n",
    "We can approximate this results by segmenting the galaxy into the \"Radio Bubbles\" we mentioned before. In this case, we would just need to calculate the galaxy's volume and the radio bubble volume. Then are able to divide these two values to get the galaxy volume scaled for the bubbles (the number of bubbles in the galaxy).\n",
    "\n",
    "\\begin{equation*}\n",
    "Galaxy Volume =  (GalaticRadius)^2 \\times  \\pi  \\times  Galaxy Height\n",
    "\\end{equation*}\n",
    "\n",
    "\\begin{equation*}\n",
    "Radio Bubble Volume = \\frac{3}{4}  \\times   R^3 \\times  \\pi  \n",
    "\\end{equation*}\n",
    "\n",
    "\\begin{equation*}\n",
    "AmountOfBubbles = \\frac{Galaxy Volume}{Radio Bubble Volume}\n",
    "\\end{equation*}\n",
    "\n",
    "\n",
    "\n",
    "The Amount of Bubbles is the number of equivalent volumes that “fit” in the galaxy. Think of these as boxes numbered from 1 to the maximum number of volumes. To place a civilization, you just pick one of these numbered boxes at random. if two of the randomly distributed civilizations fall into the same bubble, we can assume they'd both able to detetect each other's radio signal. we can reduce these equations to a function that gives us the Amount of Bubbles depending on the radius of said bubble."
   ]
  },
  {
   "cell_type": "code",
   "execution_count": 49,
   "metadata": {},
   "outputs": [],
   "source": [
    "def amountOfBubbles(radius):\n",
    "    ''' Calculates the amount of bubbles with the set radius for a galaxy of radius 5*10^4\n",
    "        lightyears and 10^3 lightyears wide.'''\n",
    "    return int((1000 * (50000**2))/(3/4 * (radius**3)))"
   ]
  },
  {
   "cell_type": "code",
   "execution_count": null,
   "metadata": {},
   "outputs": [],
   "source": [
    "# Add visualization\n",
    "#Build AmountOfBubbles as functions of R"
   ]
  },
  {
   "cell_type": "markdown",
   "metadata": {},
   "source": [
    "Now, there are plenty of caveats and approximations that are not being taken into consideration. The two main ones being:\n",
    "\n",
    "- superposition"
   ]
  },
  {
   "cell_type": "code",
   "execution_count": 32,
   "metadata": {},
   "outputs": [],
   "source": [
    "NUM_EQUIV_VOLUMES = 1000 # number of locations in which to place civilizations (amoutofbubbles)\n",
    "MAX_CIVS = 8000 # maximum number of advanced civilizations as defined by Drake\n",
    "TRIALS = 10 # number of times to model a given number of civilizations\n",
    "CIV_STEP_SIZE = 100 # civilizations count step size"
   ]
  },
  {
   "cell_type": "code",
   "execution_count": 33,
   "metadata": {},
   "outputs": [],
   "source": [
    "x = [] # x values for polynomial fit\n",
    "y = [] # y values for polynomial fit"
   ]
  },
  {
   "cell_type": "code",
   "execution_count": 34,
   "metadata": {},
   "outputs": [],
   "source": [
    "for num_civs in range(2, MAX_CIVS + 2, CIV_STEP_SIZE):\n",
    "    civs_per_vol = num_civs / NUM_EQUIV_VOLUMES\n",
    "    num_single_civs = 0\n",
    "    for trial in range(TRIALS):\n",
    "        locations = [] # equivalent volumes containing a civilization\n",
    "        while len(locations) < num_civs:\n",
    "            location = randint(1, NUM_EQUIV_VOLUMES)\n",
    "            locations.append(location)\n",
    "        overlap_count = Counter(locations)\n",
    "        overlap_rollup = Counter(overlap_count.values())\n",
    "        num_single_civs += overlap_rollup[1]\n",
    "  \n",
    "    prob = 1 - (num_single_civs / (num_civs * TRIALS))\n",
    "\n",
    "    # print ratio of civs-per-volume vs. probability of 2+ civs per location\n",
    "    #print(\"{:.4f} {:.4f}\".format(civs_per_vol, prob))\n",
    "    x.append(civs_per_vol)\n",
    "    y.append(prob)"
   ]
  },
  {
   "cell_type": "code",
   "execution_count": 35,
   "metadata": {},
   "outputs": [
    {
     "name": "stdout",
     "output_type": "stream",
     "text": [
      "\n",
      "           4           3          2\n",
      "-0.001618 x + 0.03293 x - 0.2434 x + 0.7839 x + 0.04286\n"
     ]
    },
    {
     "data": {
      "image/png": "[encoded data removed]",
      "text/plain": [
       "<Figure size 432x288 with 1 Axes>"
      ]
     },
     "metadata": {
      "needs_background": "light"
     },
     "output_type": "display_data"
    }
   ],
   "source": [
    "coefficients = np.polyfit(x, y, 4) # 4th order polynomial fit\n",
    "p = np.poly1d(coefficients)\n",
    "print(\"\\n{}\".format(p))\n",
    "xp = np.linspace(0, 5)\n",
    "_ = plt.plot(x, y, '.', xp, p(xp), '-')\n",
    "plt.ylim(-0.5, 1.5)\n",
    "plt.show()"
   ]
  },
  {
   "cell_type": "code",
   "execution_count": null,
   "metadata": {},
   "outputs": [],
   "source": []
  },
  {
   "cell_type": "code",
   "execution_count": null,
   "metadata": {},
   "outputs": [],
   "source": []
  }
 ],
 "metadata": {
  "kernelspec": {
   "display_name": "Python 3",
   "language": "python",
   "name": "python3"
  },
  "language_info": {
   "codemirror_mode": {
    "name": "ipython",
    "version": 3
   },
   "file_extension": ".py",
   "mimetype": "text/x-python",
   "name": "python",
   "nbconvert_exporter": "python",
   "pygments_lexer": "ipython3",
   "version": "3.7.3"
  }
 },
 "nbformat": 4,
 "nbformat_minor": 4
}
