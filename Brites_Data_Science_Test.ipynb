{
  "nbformat": 4,
  "nbformat_minor": 0,
  "metadata": {
    "colab": {
      "name": "Brites - Data Science Test.ipynb",
      "provenance": [],
      "authorship_tag": "ABX9TyNCdEeQBVPyuVArHeQ0zcOO",
      "include_colab_link": true
    },
    "kernelspec": {
      "name": "python3",
      "display_name": "Python 3"
    }
  },
  "cells": [
    {
      "cell_type": "markdown",
      "metadata": {
        "id": "view-in-github",
        "colab_type": "text"
      },
      "source": [
        "<a href=\"https://colab.research.google.com/github/Brites101/study-cases/blob/master/Brites_Data_Science_Test.ipynb\" target=\"_parent\"><img src=\"https://colab.research.google.com/assets/colab-badge.svg\" alt=\"Open In Colab\"/></a>"
      ]
    },
    {
      "cell_type": "code",
      "metadata": {
        "colab": {
          "base_uri": "https://localhost:8080/"
        },
        "id": "pAmGpiwOzo8g",
        "outputId": "03663e65-e663-4613-e199-acd3bf2e65d0"
      },
      "source": [
        "#general porpuse Library\r\n",
        "import numpy as np\r\n",
        "import matplotlib.pyplot as plt\r\n",
        "import pandas as pd\r\n",
        "\r\n",
        "#question 2a\r\n",
        "from scipy.spatial import distance\r\n",
        "#question 2b\r\n",
        "from sklearn.cluster import KMeans\r\n",
        "#Question 4\r\n",
        "from random import seed\r\n",
        "seed(1)\r\n",
        "from random import randrange\r\n",
        "#Question 5a\r\n",
        "np.random.seed(0)\r\n",
        "from sklearn.model_selection import train_test_split\r\n",
        "#Question 5b\r\n",
        "from sklearn.linear_model import LinearRegression\r\n",
        "#Question 5c\r\n",
        "from sklearn.linear_model import Ridge, RidgeCV\r\n",
        "#Question 5d\r\n",
        "from sklearn.linear_model import Lasso, LassoCV\r\n",
        "#Question 5e\r\n",
        "from sklearn.metrics import r2_score\r\n",
        "#question 7a\r\n",
        "import scipy.cluster.hierarchy as sch\r\n",
        "#question 7b\r\n",
        "from sklearn.cluster import AgglomerativeClustering\r\n",
        "from scipy.cluster.hierarchy import fcluster\r\n",
        "#question 7c\r\n",
        "from sklearn.preprocessing import StandardScaler\r\n",
        "#question 7d\r\n",
        "!pip install geopandas\r\n",
        "import geopandas"
      ],
      "execution_count": 1,
      "outputs": [
        {
          "output_type": "stream",
          "text": [
            "Collecting geopandas\n",
            "\u001b[?25l  Downloading https://files.pythonhosted.org/packages/2a/9f/e8a440a993e024c0d3d4e5c7d3346367c50c9a1a3d735caf5ee3bde0aab1/geopandas-0.8.2-py2.py3-none-any.whl (962kB)\n",
            "\u001b[K     |████████████████████████████████| 972kB 5.2MB/s \n",
            "\u001b[?25hRequirement already satisfied: pandas>=0.23.0 in /usr/local/lib/python3.6/dist-packages (from geopandas) (1.1.5)\n",
            "Collecting fiona\n",
            "\u001b[?25l  Downloading https://files.pythonhosted.org/packages/37/94/4910fd55246c1d963727b03885ead6ef1cd3748a465f7b0239ab25dfc9a3/Fiona-1.8.18-cp36-cp36m-manylinux1_x86_64.whl (14.8MB)\n",
            "\u001b[K     |████████████████████████████████| 14.8MB 302kB/s \n",
            "\u001b[?25hCollecting pyproj>=2.2.0\n",
            "\u001b[?25l  Downloading https://files.pythonhosted.org/packages/e4/ab/280e80a67cfc109d15428c0ec56391fc03a65857b7727cf4e6e6f99a4204/pyproj-3.0.0.post1-cp36-cp36m-manylinux2010_x86_64.whl (6.4MB)\n",
            "\u001b[K     |████████████████████████████████| 6.5MB 37.2MB/s \n",
            "\u001b[?25hRequirement already satisfied: shapely in /usr/local/lib/python3.6/dist-packages (from geopandas) (1.7.1)\n",
            "Requirement already satisfied: numpy>=1.15.4 in /usr/local/lib/python3.6/dist-packages (from pandas>=0.23.0->geopandas) (1.19.5)\n",
            "Requirement already satisfied: pytz>=2017.2 in /usr/local/lib/python3.6/dist-packages (from pandas>=0.23.0->geopandas) (2018.9)\n",
            "Requirement already satisfied: python-dateutil>=2.7.3 in /usr/local/lib/python3.6/dist-packages (from pandas>=0.23.0->geopandas) (2.8.1)\n",
            "Collecting cligj>=0.5\n",
            "  Downloading https://files.pythonhosted.org/packages/42/1e/947eadf10d6804bf276eb8a038bd5307996dceaaa41cfd21b7a15ec62f5d/cligj-0.7.1-py3-none-any.whl\n",
            "Collecting click-plugins>=1.0\n",
            "  Downloading https://files.pythonhosted.org/packages/e9/da/824b92d9942f4e472702488857914bdd50f73021efea15b4cad9aca8ecef/click_plugins-1.1.1-py2.py3-none-any.whl\n",
            "Requirement already satisfied: click<8,>=4.0 in /usr/local/lib/python3.6/dist-packages (from fiona->geopandas) (7.1.2)\n",
            "Collecting munch\n",
            "  Downloading https://files.pythonhosted.org/packages/cc/ab/85d8da5c9a45e072301beb37ad7f833cd344e04c817d97e0cc75681d248f/munch-2.5.0-py2.py3-none-any.whl\n",
            "Requirement already satisfied: attrs>=17 in /usr/local/lib/python3.6/dist-packages (from fiona->geopandas) (20.3.0)\n",
            "Requirement already satisfied: six>=1.7 in /usr/local/lib/python3.6/dist-packages (from fiona->geopandas) (1.15.0)\n",
            "Requirement already satisfied: certifi in /usr/local/lib/python3.6/dist-packages (from fiona->geopandas) (2020.12.5)\n",
            "Installing collected packages: cligj, click-plugins, munch, fiona, pyproj, geopandas\n",
            "Successfully installed click-plugins-1.1.1 cligj-0.7.1 fiona-1.8.18 geopandas-0.8.2 munch-2.5.0 pyproj-3.0.0.post1\n"
          ],
          "name": "stdout"
        }
      ]
    },
    {
      "cell_type": "markdown",
      "metadata": {
        "id": "1Ppr7rRokL1-"
      },
      "source": [
        "\r\n",
        "---\r\n",
        "\r\n",
        "# Question 1"
      ]
    },
    {
      "cell_type": "markdown",
      "metadata": {
        "id": "HUu11fb1dXp1"
      },
      "source": [
        "You will now think of some real-life applications for statistical learning."
      ]
    },
    {
      "cell_type": "markdown",
      "metadata": {
        "id": "QwGGos-nsJPl"
      },
      "source": [
        "\r\n",
        "---\r\n",
        "\r\n",
        "\r\n",
        "<h2><center>BEFORE WE START</center></h2>\r\n",
        "\r\n",
        "\r\n",
        "To clarify the examples in this question it is good to talk about the difference between **inference** and **prediction**.\r\n",
        "\r\n",
        "Inference describes the process of infering how the output is generated as a function of a given dataset. It usually accompanies interpretation of different parameters used within a model, before any prediction is outputed and it is used to decisions beyond that given observation's prediction.\r\n",
        "\r\n",
        "Prediction describes simply the final result that the model outputs. It usually is more focused on getting the a correct value most of the, regardless of the parameter. The focus is getting the corretly output consistently. Any blackbox model, for example, is focused on providing good predictions, even if they dont provide any meaningful insights on how variables are interacting with the response.\r\n",
        "\r\n",
        "**Example:** Using the date and geographic point in the surface of the planet, we can use a model to:\r\n",
        "1. **Infer** how a given scenario affects the likelyhood of raining.\r\n",
        "2. Generate a **prediction** in the set `{'will rain', 'will not rain'}`\r\n",
        "\r\n",
        "---\r\n",
        "\r\n"
      ]
    },
    {
      "cell_type": "markdown",
      "metadata": {
        "id": "awz_Y0EOjcHa"
      },
      "source": [
        "##a) Describe three real-life applications in which classification might be useful. Describe the response, as well as the predictors. Is the goal of each application inference or prediction? Explain your answer"
      ]
    },
    {
      "cell_type": "markdown",
      "metadata": {
        "id": "_CKYB9kDgsRV"
      },
      "source": [
        "**Application 1 -** A hospital can build a classifier to assign if a new arrival should be send straight to the COVID-19 ICU or not, without a Medical Doctor having to conduct examinations. The predictors in this model could be based on life signs measurements, recent lab exams, demographic information and comorbidities, while the response would the decision of sending the patient to the COVID-19 ICU or not.\r\n",
        "\r\n",
        "For this classifier, the goal is a prediction, since the model will be used to directly make a decision regarding the patient next step.\r\n",
        "\r\n",
        "---\r\n",
        "**Application 2 -** A video platform can use a classifier to identify if a new video entry in kid-friendly or not, so it can display ads properly and avoid reccommending certain content to underage people. The predictors in models could be the video author, title, a transcription of the video script and the occurance of inadequate content in each given frame. The response would be a flag, tagging the video as kid-friendly or not for usage in filters and other models.\r\n",
        "\r\n",
        "In this classifier the goal is a prediction. Our focus in on accurately assigning to flag to any given video.\r\n",
        "\r\n",
        "---\r\n",
        "**Application 3 -** A Tourism Agency sale team can build a classifier to analyze a given new lead's preferences and suggest a travel option that fits that potential customer's wishes. The predictors would be the time of the year, the person's preferences regarding regions, culture and activities and every countries' travel restrictions. The response of this model would a travel package.\r\n",
        "\r\n",
        "In this model the main goal is an inference, since we are looking to guide the customer's decision and understand how their preferences broadens or restricts their travel options. A single final response is not the main goal."
      ]
    },
    {
      "cell_type": "markdown",
      "metadata": {
        "id": "pR9eLMxjj3Xl"
      },
      "source": [
        "## b) Describe three real-life applications in which regression might be useful. Describe the response, as well as the predictors. Is the goal of each application inference or prediction? Explain your answer."
      ]
    },
    {
      "cell_type": "markdown",
      "metadata": {
        "id": "105RxbwOhHe-"
      },
      "source": [
        "**Application 1 -** I can build a regression to understand how housing is priced in a given city. Some of the predictors would be metrics such as the number of rooms, number of bathrooms, total area, distance from the city center, if there are schools close by and so on. The response would be a price estimative.\r\n",
        "\r\n",
        "In this case, the goal would be inference, because i would be mostly concerned on understanding how these factor affect price, to better prioritize these feature and understading what type of housing should i reasonabily be looking for.\r\n",
        "\r\n",
        "**Application 2 -** A company can use a regression to dinamically price it's products/services in an application based on time of day, number of customers at that time and availability.\r\n",
        "\r\n",
        "For this example, to goal would be a prediction, since we are focused on outputting a adequate price for the transaction, regardless of how the predictors are interacting in a given instant.\r\n",
        "\r\n",
        "**Application 3 -** The producers of a long-running TV show can use a regression to predict the Net Promoter Score of a given episode, using predictors such as general theme of the episode, each character's screen time, specific character interactions, the writers and directors involved and so on.\r\n",
        "\r\n",
        "For this regression, the goal would be inference, since we wish to use this model to better tailor future episodes, rather than correctly predicting their NPS."
      ]
    },
    {
      "cell_type": "markdown",
      "metadata": {
        "id": "yFHLcQ8pj7nh"
      },
      "source": [
        "## c) Describe three real-life applications in which cluster analysis might be useful."
      ]
    },
    {
      "cell_type": "markdown",
      "metadata": {
        "id": "UETPt8GIhJGF"
      },
      "source": [
        "**Application 1 -** We can build a cluster analysis that aggregates similar music tracks, based on the instruments used in the music, a bag of words of the lyrics, where and when it was performed. This could be used to identify genre or propose to which playlist a given music must be added.\r\n",
        "\r\n",
        "---\r\n",
        "\r\n",
        "\r\n",
        "**Application 2 -** We can use a cluster analysis to group all stores from a global retail company and identify how to support their performance, using criterias such as operation performance,organizational health, and current store goals. This way you can develop different growth strategies for each clusters, instead of individual strategies or a single strategy to everyone.\r\n",
        "\r\n",
        "---\r\n",
        "\r\n",
        "\r\n",
        "**Application 3 -** We can clusters the leads in the CRM of a company based on geographic location, purchase history and demographic information to help a marketing team to develop the personas that will be used in their marketing and content development strategy."
      ]
    },
    {
      "cell_type": "markdown",
      "metadata": {
        "id": "p4twmzK4kQ94"
      },
      "source": [
        "\r\n",
        "---\r\n",
        "\r\n",
        "# Question 2"
      ]
    },
    {
      "cell_type": "markdown",
      "metadata": {
        "id": "K_3NInMvkhug"
      },
      "source": [
        "The table below provides a training data set containing six observations, three predictors,\r\n",
        "and one qualitative response variable."
      ]
    },
    {
      "cell_type": "code",
      "metadata": {
        "colab": {
          "base_uri": "https://localhost:8080/",
          "height": 235
        },
        "id": "IwrzFg6RlIxa",
        "outputId": "6e2dc9ec-0720-4ac1-8ebf-f7c8c77b8a1d"
      },
      "source": [
        "q2_df = pd.DataFrame(data = {'Obs':[1,2,3,4,5,6],\r\n",
        "                             'X1':[0,4,0,0,-2,1],\r\n",
        "                             'X2':[3,0,-1,1,0,1],\r\n",
        "                             'X3':[0,0,4,2,1,3],\r\n",
        "                             'Y':['Red','Green','Red','Green','Red','Red']})\r\n",
        "\r\n",
        "q2_df"
      ],
      "execution_count": null,
      "outputs": [
        {
          "output_type": "execute_result",
          "data": {
            "text/html": [
              "<div>\n",
              "<style scoped>\n",
              "    .dataframe tbody tr th:only-of-type {\n",
              "        vertical-align: middle;\n",
              "    }\n",
              "\n",
              "    .dataframe tbody tr th {\n",
              "        vertical-align: top;\n",
              "    }\n",
              "\n",
              "    .dataframe thead th {\n",
              "        text-align: right;\n",
              "    }\n",
              "</style>\n",
              "<table border=\"1\" class=\"dataframe\">\n",
              "  <thead>\n",
              "    <tr style=\"text-align: right;\">\n",
              "      <th></th>\n",
              "      <th>Obs</th>\n",
              "      <th>X1</th>\n",
              "      <th>X2</th>\n",
              "      <th>X3</th>\n",
              "      <th>Y</th>\n",
              "    </tr>\n",
              "  </thead>\n",
              "  <tbody>\n",
              "    <tr>\n",
              "      <th>0</th>\n",
              "      <td>1</td>\n",
              "      <td>0</td>\n",
              "      <td>3</td>\n",
              "      <td>0</td>\n",
              "      <td>Red</td>\n",
              "    </tr>\n",
              "    <tr>\n",
              "      <th>1</th>\n",
              "      <td>2</td>\n",
              "      <td>4</td>\n",
              "      <td>0</td>\n",
              "      <td>0</td>\n",
              "      <td>Green</td>\n",
              "    </tr>\n",
              "    <tr>\n",
              "      <th>2</th>\n",
              "      <td>3</td>\n",
              "      <td>0</td>\n",
              "      <td>-1</td>\n",
              "      <td>4</td>\n",
              "      <td>Red</td>\n",
              "    </tr>\n",
              "    <tr>\n",
              "      <th>3</th>\n",
              "      <td>4</td>\n",
              "      <td>0</td>\n",
              "      <td>1</td>\n",
              "      <td>2</td>\n",
              "      <td>Green</td>\n",
              "    </tr>\n",
              "    <tr>\n",
              "      <th>4</th>\n",
              "      <td>5</td>\n",
              "      <td>-2</td>\n",
              "      <td>0</td>\n",
              "      <td>1</td>\n",
              "      <td>Red</td>\n",
              "    </tr>\n",
              "    <tr>\n",
              "      <th>5</th>\n",
              "      <td>6</td>\n",
              "      <td>1</td>\n",
              "      <td>1</td>\n",
              "      <td>3</td>\n",
              "      <td>Red</td>\n",
              "    </tr>\n",
              "  </tbody>\n",
              "</table>\n",
              "</div>"
            ],
            "text/plain": [
              "   Obs  X1  X2  X3      Y\n",
              "0    1   0   3   0    Red\n",
              "1    2   4   0   0  Green\n",
              "2    3   0  -1   4    Red\n",
              "3    4   0   1   2  Green\n",
              "4    5  -2   0   1    Red\n",
              "5    6   1   1   3    Red"
            ]
          },
          "metadata": {
            "tags": []
          },
          "execution_count": 4
        }
      ]
    },
    {
      "cell_type": "markdown",
      "metadata": {
        "id": "QZzbl1OyoeLG"
      },
      "source": [
        "Suppose we wish to use this data set to make a prediction for Y when X1 = X2 = X3 = 0 using Knearest neighbors."
      ]
    },
    {
      "cell_type": "markdown",
      "metadata": {
        "id": "q5VScWXQKcry"
      },
      "source": [
        "## a) Compute the Euclidean distance between each observation and the test point, X1 = X2 = X3 = 0."
      ]
    },
    {
      "cell_type": "code",
      "metadata": {
        "id": "5BSraDpPxxxO"
      },
      "source": [
        "X = q2_df[['X1','X2','X3']]\r\n",
        "y = q2_df['Y']"
      ],
      "execution_count": null,
      "outputs": []
    },
    {
      "cell_type": "code",
      "metadata": {
        "id": "1J_5TE4nofb9",
        "colab": {
          "base_uri": "https://localhost:8080/"
        },
        "outputId": "dcf2d802-8ccd-40fe-ca4e-74a221b19b53"
      },
      "source": [
        "def q2_distance(X,index,test):\r\n",
        "  '''get the coordinates of a given row in the X DataFrame and calculate its \r\n",
        "  distance from a given test point. X and test must have the number of dimensions'''\r\n",
        "\r\n",
        "  target = tuple(X.loc[X.index == index].values.flatten())\r\n",
        "  dist = distance.euclidean(test,target)\r\n",
        "  return dist\r\n",
        "\r\n",
        "test_point = (0,0,0)\r\n",
        "for i in X.index:\r\n",
        "  print('the distance between the test_point and the target point (Obs.{}) is {} units'.format(q2_df.iloc[i,0], q2_distance(X,i,test_point)))"
      ],
      "execution_count": null,
      "outputs": [
        {
          "output_type": "stream",
          "text": [
            "the distance between the test_point and the target point (Obs.1) is 3.0 units\n",
            "the distance between the test_point and the target point (Obs.2) is 4.0 units\n",
            "the distance between the test_point and the target point (Obs.3) is 4.123105625617661 units\n",
            "the distance between the test_point and the target point (Obs.4) is 2.23606797749979 units\n",
            "the distance between the test_point and the target point (Obs.5) is 2.23606797749979 units\n",
            "the distance between the test_point and the target point (Obs.6) is 3.3166247903554 units\n"
          ],
          "name": "stdout"
        }
      ]
    },
    {
      "cell_type": "markdown",
      "metadata": {
        "id": "z_qMLZbaoqqR"
      },
      "source": [
        "## b) What is our prediction with K = 1? Why?"
      ]
    },
    {
      "cell_type": "code",
      "metadata": {
        "id": "pN1tSNE50ku6"
      },
      "source": [
        "class PredictedCluster:\r\n",
        "  def __init__(self, predicted_cluster, neighbors_index,neighbors_dist,neighbors_clusters):\r\n",
        "    self.predicted_cluster = predicted_cluster\r\n",
        "    self.neighbors_index = neighbors_index    \r\n",
        "    self.neighbors_dist = neighbors_dist\r\n",
        "    self.neighbors_clusters = neighbors_clusters\r\n",
        "\r\n",
        "def predict_cluster(test_tuple,K, X, y):\r\n",
        "  \r\n",
        "  #Calculate distances and input them in aux DataFrame\r\n",
        "  aux = pd.DataFrame(columns=['target_index','distance_to_test'])\r\n",
        "  for i in X.index:\r\n",
        "    aux.loc[len(aux)] = [i,q2_distance(X,i,test_point)]\r\n",
        "\r\n",
        "  #sort aux DataFrame and untie distances\r\n",
        "  aux = aux.sort_values('distance_to_test').reset_index(drop=True)\r\n",
        "  \r\n",
        "  #list neighbours feature\r\n",
        "  knn_index = aux.iloc[0:K]['target_index'].tolist()\r\n",
        "  knn_distance = aux.iloc[0:K]['distance_to_test'].tolist()\r\n",
        "  knn_cluster = [y.to_dict()[n] for n in knn_index]\r\n",
        "\r\n",
        "  #count neighbours clusters and outputs most recurring cluster\r\n",
        "  prediction=knn_cluster[0]\r\n",
        "  counter = 0\r\n",
        "  for c in knn_cluster: \r\n",
        "          freq = knn_cluster.count(c) \r\n",
        "          if(freq> counter): \r\n",
        "              counter = freq \r\n",
        "              prediction = c\r\n",
        "\r\n",
        "  #create PredictedCluster object for this observation\r\n",
        "  predicted_cluster = PredictedCluster(prediction,knn_index,knn_distance,knn_cluster)\r\n",
        "\r\n",
        "  return predicted_cluster"
      ],
      "execution_count": null,
      "outputs": []
    },
    {
      "cell_type": "code",
      "metadata": {
        "colab": {
          "base_uri": "https://localhost:8080/",
          "height": 35
        },
        "id": "EJTiZUzX8wVr",
        "outputId": "11870486-88f0-4fac-9060-bcd1cbea0328"
      },
      "source": [
        "k1 = predict_cluster((0,0,0),3, X, y)\r\n",
        "k1.predicted_cluster"
      ],
      "execution_count": null,
      "outputs": [
        {
          "output_type": "execute_result",
          "data": {
            "application/vnd.google.colaboratory.intrinsic+json": {
              "type": "string"
            },
            "text/plain": [
              "'Red'"
            ]
          },
          "metadata": {
            "tags": []
          },
          "execution_count": 8
        }
      ]
    },
    {
      "cell_type": "markdown",
      "metadata": {
        "id": "phkurBdXwhJl"
      },
      "source": [
        "The prediction for `K=1` is particularly interesting in this case because there is no unique closest neighbour to `(0,0,0)`. `Obs.4` and `Obs.5` are equidistant from it.\r\n",
        "\r\n",
        "**Dealing with ties in KNN** can be done in many different way. In the function above, the untie happens during sorting, based on numpy's `quicksort`  method (which is somewhat affect by order of observations) for no particular reason. This resulted in `(0,0,0)` being assigned the color `Red`\r\n",
        "\r\n",
        "Some ways that you could also deal with a given tie is:\r\n",
        "\r\n",
        "* By randomly assigning a cluster to the `test_point`,\r\n",
        "* By using k nearest means/median to get a secundary border,\r\n",
        "* (in situations with `K>1`) By reducing `K` until you have untied the prediction.\r\n",
        "\r\n",
        "Ideally one could use their own understading of the problem and the data to allocate the tied test_point accordingly. But the difference between those methods is rarely relevant for the overall performance of the model.\r\n",
        "\r\n"
      ]
    },
    {
      "cell_type": "markdown",
      "metadata": {
        "id": "D-0H-I5PotiW"
      },
      "source": [
        "## c) What is our prediction with K = 3? Why?"
      ]
    },
    {
      "cell_type": "code",
      "metadata": {
        "id": "JtufHQhootxs",
        "colab": {
          "base_uri": "https://localhost:8080/",
          "height": 35
        },
        "outputId": "a9d411fa-b1e2-4e45-f700-e746972c822e"
      },
      "source": [
        "k3 = predict_cluster((0,0,0),3, X, y)\r\n",
        "\r\n",
        "k3.predicted_cluster"
      ],
      "execution_count": null,
      "outputs": [
        {
          "output_type": "execute_result",
          "data": {
            "application/vnd.google.colaboratory.intrinsic+json": {
              "type": "string"
            },
            "text/plain": [
              "'Red'"
            ]
          },
          "metadata": {
            "tags": []
          },
          "execution_count": 9
        }
      ]
    },
    {
      "cell_type": "code",
      "metadata": {
        "colab": {
          "base_uri": "https://localhost:8080/"
        },
        "id": "Tgps-8VXKBkv",
        "outputId": "9612de1c-3c02-4cb4-85f4-efeb0291621a"
      },
      "source": [
        "k3.neighbors_clusters"
      ],
      "execution_count": null,
      "outputs": [
        {
          "output_type": "execute_result",
          "data": {
            "text/plain": [
              "['Green', 'Red', 'Red']"
            ]
          },
          "metadata": {
            "tags": []
          },
          "execution_count": 10
        }
      ]
    },
    {
      "cell_type": "markdown",
      "metadata": {
        "id": "vmUgxNj8C0Sw"
      },
      "source": [
        "For `K=3`, the predicted color is `Red`, since out of its `K` closest neighbours, `K-1` are `Red`."
      ]
    },
    {
      "cell_type": "markdown",
      "metadata": {
        "id": "pdbtiUOjovj2"
      },
      "source": [
        "## d) If the Bayes decision boundary in this problem is highly nonlinear, then would we expect the best value for K to be large or small? Why?\r\n"
      ]
    },
    {
      "cell_type": "markdown",
      "metadata": {
        "id": "5XXP0guRKnV0"
      },
      "source": [
        "\r\n",
        "The goal of the model we used in this exercise is to approximate the approximate the best Decision Boundary with the evidence we have evidence. The decision boundery are defined by the hyperplanes dividing the feature space into our clusters. The following image is an example of a decision boundary, dividing a 2D feature space into two clusters.\r\n",
        "\r\n",
        "<center><img src=\"https://i.imgur.com/t1sKfPu.jpg\" width=\"400\"/></center>\r\n",
        "\r\n",
        "A highly nonlinear boundary usually describes level of specificity with cannot be resonabily expected from our model. akin to overfitting a model, this usually indicates that our model will not generalize well.\r\n",
        "\r\n",
        "To reduce this issue, we must **increase the value of K**. Increasing K gives each observation a higher sample to compare, hence reducing variance in the output and providing a smoother decision boundary.\r\n",
        "\r\n",
        "<center><img src=\"https://i.imgur.com/l3z5qLI.jpg\" width=\"1000\"></center>"
      ]
    },
    {
      "cell_type": "markdown",
      "metadata": {
        "id": "DTPmlEyDo5Vi"
      },
      "source": [
        "\r\n",
        "---\r\n",
        "\r\n",
        "# QUESTION 3"
      ]
    },
    {
      "cell_type": "markdown",
      "metadata": {
        "id": "F4Crtjc5o6-l"
      },
      "source": [
        "Suppose we have a data set with five predictors, X1 = GPA, X2 = IQ, X3 = Gender (1 for\r\n",
        "Female and 0 for Male), X4 = Interaction between GPA and IQ, and X5 = Interaction between\r\n",
        "GPA and Gender. The response is starting salary after graduation (in thousands of dollars).\r\n",
        "Suppose we use least squares to fit the model, and get\r\n",
        "* $β_0 = 50$,\r\n",
        "* $β_1 = 20$,\r\n",
        "* $β_2 = 0.07$,\r\n",
        "* $β_3 = 35$,\r\n",
        "* $β_4 = 0.01$,\r\n",
        "* $β_5 = −10$"
      ]
    },
    {
      "cell_type": "markdown",
      "metadata": {
        "id": "cqd1OF6kaQf4"
      },
      "source": [
        "<div class=\"alert alert-block alert-warning\">\r\n",
        "<b>NOTE:</b> for this exercise i am suposing that \"interaction\" between two numbers means their product. e.g. \"Interaction between A and B\" means $A \\cdot  B$\r\n",
        "<h3><center>$y =\\beta_0 + \\beta_1x_1 + \\beta_2x_2 + \\beta_3x_3 + \\beta_4(x_1x_2) + \\beta_5(x_1x_3) $ </center></h3>\r\n",
        "</div>\r\n"
      ]
    },
    {
      "cell_type": "markdown",
      "metadata": {
        "id": "tDKROVS4pJgZ"
      },
      "source": [
        "## a) Which answer is correct, and why?\r\n",
        "\r\n",
        "\r\n",
        "1. For a fixed value of IQ and GPA, males earn more on average than females.\r\n",
        "2. For a fixed value of IQ and GPA, females earn more on average than males.\r\n",
        "3. For a fixed value of IQ and GPA, males earn more on average than females\r\n",
        "provided that the GPA is high enough.\r\n",
        "4. For a fixed value of IQ and GPA, females earn more on average than males\r\n",
        "provided that the GPA is high enough.\r\n"
      ]
    },
    {
      "cell_type": "markdown",
      "metadata": {
        "id": "h3UG7PWveUJ_"
      },
      "source": [
        "**ANSWER:**\r\n",
        "\r\n",
        "given the fit model: \r\n",
        "\r\n",
        "<h3><center>$y = 50 + 20x_1 + 0.07x_2+ 35x_3 + 0.01(x_1x_2) - 10(x_1x_3) $ </center></h3>\r\n",
        "\r\n",
        "we get that:\r\n",
        "\r\n",
        "<h3><center>\r\n",
        "(i) $y(x_3=0) = 50 + 20x_1 + 0.07x_2 + 0.01(x_1x_2)$ </center></h3>\r\n",
        "<h3><center>(ii) $y(x_3=1) = 85 + 20x_1 + 0.07x_2 + 0.01(x_1x_2) - 10(x_1)$ </center></h3>\r\n",
        "\r\n",
        "Given fixed values for $X_1$ and $X_2$, we can reduced these equations to:\r\n",
        "<h3><center>\r\n",
        "(i) $y(x_3=0) = C$ </center></h3>\r\n",
        "<h3><center>(ii) $y(x_3=1) =-10(x_1)+ 35 + C$ </center></h3>\r\n",
        "Where C is a fixed value.\r\n"
      ]
    },
    {
      "cell_type": "code",
      "metadata": {
        "colab": {
          "base_uri": "https://localhost:8080/",
          "height": 480
        },
        "id": "Vo0jDY8iiSFP",
        "outputId": "c5f0cbc2-d5a9-42a4-a1a1-8fa2dcd651c5"
      },
      "source": [
        "x = np.linspace(0,5,100)\r\n",
        "y1 = -10*x+35\r\n",
        "y0 = 0*x\r\n",
        "\r\n",
        "plt.figure(figsize=(12, 7))\r\n",
        "plt.plot(x, y1, '-r', label='Female')\r\n",
        "plt.plot(x, y0, '-b', label='Male')\r\n",
        "plt.axvline(x=3.5,color='grey',linestyle='--')\r\n",
        "plt.title('Difference in prediction for Male and Female for each value of GPA',fontsize=20)\r\n",
        "plt.xlabel('GPA')\r\n",
        "plt.ylabel('Starting Salary')\r\n",
        "plt.legend(loc='upper right')"
      ],
      "execution_count": null,
      "outputs": [
        {
          "output_type": "execute_result",
          "data": {
            "text/plain": [
              "<matplotlib.legend.Legend at 0x7fd05be6fa90>"
            ]
          },
          "metadata": {
            "tags": []
          },
          "execution_count": 225
        },
        {
          "output_type": "display_data",
          "data": {
            "image/png": "[encoded data removed]",
            "text/plain": [
              "<Figure size 864x504 with 1 Axes>"
            ]
          },
          "metadata": {
            "tags": [],
            "needs_background": "light"
          }
        }
      ]
    },
    {
      "cell_type": "markdown",
      "metadata": {
        "id": "7k_Mdu5sk2OK"
      },
      "source": [
        "We can clearly see that:\r\n",
        "\r\n",
        "<h2><center>$x_1 > 3.5 \\implies y(x_3=0)>y(x_3=1)$</center></h2>\r\n",
        "\r\n",
        "Therefore, the correct answer is option 3 which states:\r\n",
        "\r\n",
        "> \"*For a fixed value of IQ and GPA, males earn more on average than femalesprovided that the GPA is high enough*.\""
      ]
    },
    {
      "cell_type": "markdown",
      "metadata": {
        "id": "r5JNHazhpf6q"
      },
      "source": [
        "## b) Predict the salary of a female with IQ of 110 and a GPA of 4.0"
      ]
    },
    {
      "cell_type": "code",
      "metadata": {
        "id": "ObU3wkeupgOL"
      },
      "source": [
        "def q3_predict(x1,x2,x3):\r\n",
        "  y= 50+(20*x1)+(0.07*x2)+(35*x3)+(0.01*x1*x2)+(-10*x1*x3)\r\n",
        "  return y"
      ],
      "execution_count": null,
      "outputs": []
    },
    {
      "cell_type": "code",
      "metadata": {
        "colab": {
          "base_uri": "https://localhost:8080/"
        },
        "id": "CP128R7Dmd90",
        "outputId": "0118c895-a6c7-4b6d-f49b-5d524a073f6d"
      },
      "source": [
        "q3_predict(4,110,1)"
      ],
      "execution_count": null,
      "outputs": [
        {
          "output_type": "execute_result",
          "data": {
            "text/plain": [
              "137.1"
            ]
          },
          "metadata": {
            "tags": []
          },
          "execution_count": 229
        }
      ]
    },
    {
      "cell_type": "markdown",
      "metadata": {
        "id": "FBi9Rga2pvPS"
      },
      "source": [
        "## c) True or false: Since the coefficient for the GPA/IQ interaction term is very small, there is very little evidence of an interaction effect. Justify your answer.\r\n"
      ]
    },
    {
      "cell_type": "markdown",
      "metadata": {
        "id": "aT-gj6zhnlad"
      },
      "source": [
        "*ANSWER: FALSE*\r\n",
        "\r\n",
        "That is not necessarely true. The coefficient for the GPA/IQ interaction does not indicate how reliable that evidence is. It indicates the degree of change that a variable (GPA*IQ) in the outcome variable (Starting Salary).\r\n",
        "\r\n",
        "To measure how reliable that evidence is, one should examine the statistical significance through the coefficient's p-value and a given confidence level."
      ]
    },
    {
      "cell_type": "markdown",
      "metadata": {
        "id": "KiseMR3YqazJ"
      },
      "source": [
        "\r\n",
        "---\r\n",
        "\r\n",
        "# QUESTION 04"
      ]
    },
    {
      "cell_type": "markdown",
      "metadata": {
        "id": "AfIr4NEFqdR5"
      },
      "source": [
        "We now review k-fold cross-validation"
      ]
    },
    {
      "cell_type": "markdown",
      "metadata": {
        "id": "2yvzH7bTJqB5"
      },
      "source": [
        "## a) Explain how k-fold cross-validation is implemented."
      ]
    },
    {
      "cell_type": "markdown",
      "metadata": {
        "id": "Dk6Yh8VqqEdt"
      },
      "source": [
        "Cross-validation is a statistical method used to estimate the performance of a model via resampling. k-fold cross-validation gives a solid performance estimative when compared to other methods such as the train and test split.\r\n",
        "\r\n",
        "The method works by dividing the dataset into K sets of equal size (and one set of `N%K` elements) caled folds."
      ]
    },
    {
      "cell_type": "code",
      "metadata": {
        "colab": {
          "base_uri": "https://localhost:8080/"
        },
        "id": "Q20C3HUs9ree",
        "outputId": "bb4a4c75-ed04-4bd7-b3ee-6344c3f37023"
      },
      "source": [
        "def cross_validation_split(data, folds):\r\n",
        "\tdata_split = list()\r\n",
        "\tdata_list = list(dataset)\r\n",
        "\tfold_size = int(len(dataset) / folds)\r\n",
        "\tfor i in range(folds):\r\n",
        "\t\tfold = list()\r\n",
        "\t\twhile len(fold) < fold_size:\r\n",
        "\t\t\tindex = randrange(len(data_list))\r\n",
        "\t\t\tfold.append(data_list.pop(index))\r\n",
        "\t\tdata_split.append(fold)\r\n",
        "\treturn data_split\r\n",
        "\r\n",
        "dataset = [[1], [2], [3], [4], [5], [6], [7], [8], [9], [10]]\r\n",
        "folds = cross_validation_split(dataset, 3)\r\n",
        "print('With a dataset of {} observations and {} folds. our folds are {}'.format(len(dataset),3,folds))"
      ],
      "execution_count": 237,
      "outputs": [
        {
          "output_type": "stream",
          "text": [
            "With a dataset of 10 observations and 3 folds. our folds are [[[7], [4], [9]], [[8], [1], [10]], [[3], [5], [6]]]\n"
          ],
          "name": "stdout"
        }
      ]
    },
    {
      "cell_type": "markdown",
      "metadata": {
        "id": "LcVrX0ud_LtS"
      },
      "source": [
        "After defining the folds, we would train a given model using k-1 folds, and use the remaining fold for validation, so we can calculate performance.\r\n",
        "\r\n",
        "We repeat this process K times, with a different validation fold at each iteration.\r\n",
        "\r\n",
        "Now, we have a difference performance for each iteration. An average of this performances yields a good generalization of our model performance.\r\n",
        "\r\n",
        "<center><img src=\"https://i.imgur.com/dOo1rQL.jpg\" width=\"500\"/></center>"
      ]
    },
    {
      "cell_type": "markdown",
      "metadata": {
        "id": "Ikdiks2TqiJe"
      },
      "source": [
        "## b) What are the advantages and disadvantages of k-fold cross-validation relative to:"
      ]
    },
    {
      "cell_type": "markdown",
      "metadata": {
        "id": "keSx4KIHJvLj"
      },
      "source": [
        "### 1.The validation set approach?\r\n"
      ]
    },
    {
      "cell_type": "markdown",
      "metadata": {
        "id": "wCiDPacCAKIM"
      },
      "source": [
        "A validation set approach is akin to a K-fold Cross-Validation where `K=1`. Which is the more common train-test-split approach.\r\n",
        "\r\n",
        "Some **advantages** of K-fold Cross-Validation relative to Validation Set Approach are:\r\n",
        "\r\n",
        "*   It assess the performance of your model multiple times, reducing the effects that any single split may have on the model and better showing how the model generalizes to unknown data.\r\n",
        "*   It has lower bias due to bigger training set for each iteration\r\n",
        "*   Cross-Validation can help with Hyperparameter tuning\r\n",
        "\r\n",
        "Some **disadvantages** ares:\r\n",
        "*   It is more computationaly intensive, due train model multiple times with a bigger training set\r\n",
        "*   It is not easily implemented in time-series or sequential data.\r\n",
        "*   K-Fold requires more care (ensuring the data is well distributed across folds and and checking how big is the performance variance across folds."
      ]
    },
    {
      "cell_type": "markdown",
      "metadata": {
        "id": "dJzf7Gf2q0Lw"
      },
      "source": [
        "### 2.LOOCV?"
      ]
    },
    {
      "cell_type": "markdown",
      "metadata": {
        "id": "Lp2QJ87MItzm"
      },
      "source": [
        "A Leave One Out Cross-Validation (LOOCV) the on the other end of the spectrum for the validation set, in which you perform a K-fold where `K=N`. Which means we train our model with almost all the observations, leaving a single one out, which will be used to validate the model. At the end, instead of getting the mean of the performances on each observation, we compute the uncertainty in the model\r\n",
        "\r\n",
        "Some **advantages** of K-fold Cross-Validation over LOOCV are:\r\n",
        "\r\n",
        "*  Requires less resources. LOOCV is exponentially time and computationally intensive as the dataset grow.\r\n",
        "*  It has lower variance, due smaller training set\r\n",
        "\r\n",
        "Some **disadvantages**\r\n",
        "*  It has more bias than LOOCV\r\n",
        "*  I has randomness, while LOOCV does not."
      ]
    },
    {
      "cell_type": "markdown",
      "metadata": {
        "id": "1l0YSkN4MVlH"
      },
      "source": [
        "When choosing which type of validation procedure you will use, the most important aspect to consider is the training set size and the training time. As a rule of thumb, running K-fold CV with 5 to 10 folds is a good default."
      ]
    },
    {
      "cell_type": "markdown",
      "metadata": {
        "id": "XLkB5ktF0rPG"
      },
      "source": [
        "\r\n",
        "---\r\n",
        "\r\n",
        "# QUESTION 5"
      ]
    },
    {
      "cell_type": "markdown",
      "metadata": {
        "id": "tVjoua1bq2E5"
      },
      "source": [
        "In this exercise, we will predict the number of applications received using the other variables in the [College data set](https://github.com/cervejaria-ambev/ambev_estudos_ISL/blob/master/data/raw/college.csv)"
      ]
    },
    {
      "cell_type": "code",
      "metadata": {
        "id": "H1k_qm-Gq4eX"
      },
      "source": [
        "q5_df = pd.read_csv('https://raw.githubusercontent.com/cervejaria-ambev/ambev_estudos_ISL/master/data/raw/college.csv')"
      ],
      "execution_count": 55,
      "outputs": []
    },
    {
      "cell_type": "markdown",
      "metadata": {
        "id": "uUUH_DyMqjy1"
      },
      "source": [
        "## a) Split the data set into a training set and a test set."
      ]
    },
    {
      "cell_type": "code",
      "metadata": {
        "id": "p9BcDIIJ5zxK"
      },
      "source": [
        "q5_df.rename(columns={'Unnamed: 0':'College'},inplace=True)\r\n",
        "q5_df['Private'] = q5_df['Private'].map({'Yes':1,'No':0})\r\n",
        "q5_df.set_index('College',inplace=True)"
      ],
      "execution_count": 56,
      "outputs": []
    },
    {
      "cell_type": "code",
      "metadata": {
        "id": "ejAdEKKksO66"
      },
      "source": [
        "y = q5_df['Apps']\r\n",
        "\r\n",
        "X = q5_df[['Private',\r\n",
        "           'Accept',\r\n",
        "           'Enroll',\r\n",
        "           'Top10perc',\r\n",
        "           'Top25perc',\r\n",
        "           'F.Undergrad',\r\n",
        "           'P.Undergrad',\r\n",
        "           'Outstate',\r\n",
        "           'Room.Board',\r\n",
        "           'Books',\r\n",
        "           'Personal',\r\n",
        "           'PhD',\r\n",
        "           'Terminal',\r\n",
        "           'S.F.Ratio',\r\n",
        "           'perc.alumni',\r\n",
        "           'Expend',\r\n",
        "           'Grad.Rate']]"
      ],
      "execution_count": 57,
      "outputs": []
    },
    {
      "cell_type": "code",
      "metadata": {
        "id": "xUytycWyqx-J"
      },
      "source": [
        "X_train, X_test, y_train, y_test = train_test_split(X, y, test_size=0.30)"
      ],
      "execution_count": 58,
      "outputs": []
    },
    {
      "cell_type": "markdown",
      "metadata": {
        "id": "7C4E1xo6qlfl"
      },
      "source": [
        "## b) Fit a linear model using least squares on the training set, and report the test error obtained."
      ]
    },
    {
      "cell_type": "code",
      "metadata": {
        "colab": {
          "base_uri": "https://localhost:8080/"
        },
        "id": "SInpNQ6Zu2Pw",
        "outputId": "4ff6d334-0b03-4b03-c187-1683c24bcbed"
      },
      "source": [
        "q5b_reg = LinearRegression(normalize=True)\r\n",
        "q5b_reg.fit(X_train, y_train)\r\n",
        "\r\n",
        "y_pred_b = q5b_reg.predict(X_test)\r\n",
        "\r\n",
        "test_error_b = ((y_test - y_pred_b)**2).mean()\r\n",
        "print('The MSE for the linear regression is {}'.format(test_error_b))"
      ],
      "execution_count": 59,
      "outputs": [
        {
          "output_type": "stream",
          "text": [
            "The MSE for the linear regression is 1934106.0085524342\n"
          ],
          "name": "stdout"
        }
      ]
    },
    {
      "cell_type": "markdown",
      "metadata": {
        "id": "5jOgv2r9qn84"
      },
      "source": [
        "## c) Fit a ridge regression model on the training set, with λ chosen by cross-validation. Report the test error obtained."
      ]
    },
    {
      "cell_type": "code",
      "metadata": {
        "colab": {
          "base_uri": "https://localhost:8080/"
        },
        "id": "LjLPPa-p1F5X",
        "outputId": "6727d7d4-bb0b-4412-8ec0-b211c29cac55"
      },
      "source": [
        "alpha_arr = 10**np.linspace(10,-2,100)*0.5\r\n",
        "\r\n",
        "ridgecv = RidgeCV(alphas = alpha_arr,cv=10 ,scoring = 'neg_mean_squared_error',normalize=True)\r\n",
        "ridgecv.fit(X_train, y_train)\r\n",
        "print('the best λ found via crossvalidation is {}'.format(ridgecv.alpha_))"
      ],
      "execution_count": 60,
      "outputs": [
        {
          "output_type": "stream",
          "text": [
            "the best λ found via crossvalidation is 0.005\n"
          ],
          "name": "stdout"
        }
      ]
    },
    {
      "cell_type": "code",
      "metadata": {
        "colab": {
          "base_uri": "https://localhost:8080/"
        },
        "id": "BA4CSvgpzV5V",
        "outputId": "0aabdab0-6dc8-4281-f7e8-e0f63f9b0bea"
      },
      "source": [
        "q5c_reg = Ridge(alpha=ridgecv.alpha_, normalize=True)\r\n",
        "q5c_reg.fit(X_train, y_train)\r\n",
        "\r\n",
        "y_pred_c = q5c_reg.predict(X_test)\r\n",
        "\r\n",
        "test_error_c = ((y_test - y_pred_c)**2).mean()\r\n",
        "print('The MSE for the ridge regression is {}'.format(test_error_c))"
      ],
      "execution_count": 61,
      "outputs": [
        {
          "output_type": "stream",
          "text": [
            "The MSE for the ridge regression is 2046569.0095866467\n"
          ],
          "name": "stdout"
        }
      ]
    },
    {
      "cell_type": "markdown",
      "metadata": {
        "id": "vwKtyA6ZqprW"
      },
      "source": [
        "## d) Fit a lasso model on the training  set, with λ chosen by crossvalidation. Report the test error obtained, along with the number of non-zero coefficient estimates"
      ]
    },
    {
      "cell_type": "code",
      "metadata": {
        "colab": {
          "base_uri": "https://localhost:8080/"
        },
        "id": "1OIrFiTJqyka",
        "outputId": "7e36007a-94cd-4464-9a03-26d3f223df4d"
      },
      "source": [
        "lassocv = LassoCV(alphas = alpha_arr,cv = 10, max_iter = 1000, normalize = True)\r\n",
        "lassocv.fit(X_train, y_train)\r\n",
        "print('the best λ found via crossvalidation is {}'.format(lassocv.alpha_))"
      ],
      "execution_count": 62,
      "outputs": [
        {
          "output_type": "stream",
          "text": [
            "the best λ found via crossvalidation is 0.7599555414764666\n"
          ],
          "name": "stdout"
        }
      ]
    },
    {
      "cell_type": "code",
      "metadata": {
        "colab": {
          "base_uri": "https://localhost:8080/"
        },
        "id": "QqE-m_tA8KEe",
        "outputId": "de437515-db93-42dc-b2cd-d12ac3a6b9ef"
      },
      "source": [
        "q5d_reg = Lasso(alpha=lassocv.alpha_,max_iter = 1000, normalize = True)\r\n",
        "q5d_reg.fit(X_train, y_train)\r\n",
        "\r\n",
        "y_pred_d = q5d_reg.predict(X_test)\r\n",
        "\r\n",
        "test_error_d = ((y_test - y_pred_d)**2).mean()\r\n",
        "print('The MSE for the lasso regression is {}'.format(test_error_d))"
      ],
      "execution_count": 63,
      "outputs": [
        {
          "output_type": "stream",
          "text": [
            "The MSE for the lasso regression is 2125693.0655860347\n"
          ],
          "name": "stdout"
        }
      ]
    },
    {
      "cell_type": "code",
      "metadata": {
        "colab": {
          "base_uri": "https://localhost:8080/"
        },
        "id": "f7LQkYYC9f9E",
        "outputId": "c2897137-380c-43d1-953d-4543bc7f2468"
      },
      "source": [
        "q5d_coef = pd.Series(q5d_reg.coef_, index=X.columns,name='Lasso_Coeficients')\r\n",
        "q5d_coef[q5d_coef!=0].sort_values()"
      ],
      "execution_count": 64,
      "outputs": [
        {
          "output_type": "execute_result",
          "data": {
            "text/plain": [
              "Private       -374.996663\n",
              "perc.alumni     -9.260176\n",
              "Terminal        -5.167420\n",
              "PhD             -1.282883\n",
              "Top25perc       -0.512699\n",
              "Outstate        -0.026205\n",
              "P.Undergrad      0.028232\n",
              "Books            0.032209\n",
              "F.Undergrad      0.040226\n",
              "Personal         0.057132\n",
              "Expend           0.082200\n",
              "Room.Board       0.137292\n",
              "Accept           1.213224\n",
              "S.F.Ratio        3.742635\n",
              "Grad.Rate        5.258816\n",
              "Top10perc       24.099235\n",
              "Name: Lasso_Coeficients, dtype: float64"
            ]
          },
          "metadata": {
            "tags": []
          },
          "execution_count": 64
        }
      ]
    },
    {
      "cell_type": "markdown",
      "metadata": {
        "id": "8sp5-BXbqq3M"
      },
      "source": [
        "## e) Comment on the results obtained. How accurately can we predict the number of college applications received? Is there much difference among the test errors resulting from these approaches?\r\n"
      ]
    },
    {
      "cell_type": "code",
      "metadata": {
        "colab": {
          "base_uri": "https://localhost:8080/"
        },
        "id": "qcyKvc3mAdFo",
        "outputId": "f8da5b7e-5f94-4dfd-82fb-4ae3c349ce07"
      },
      "source": [
        "print('''The MSE for the linear regression is {} \r\n",
        "The MSE for the ridge regression is {} \r\n",
        "The MSE for the lasso regression is {}'''.format(test_error_b,test_error_c,test_error_d))"
      ],
      "execution_count": 65,
      "outputs": [
        {
          "output_type": "stream",
          "text": [
            "The MSE for the linear regression is 1934106.0085524342 \n",
            "The MSE for the ridge regression is 2046569.0095866467 \n",
            "The MSE for the lasso regression is 2125693.0655860347\n"
          ],
          "name": "stdout"
        }
      ]
    },
    {
      "cell_type": "markdown",
      "metadata": {
        "id": "f-KvqT1VvO6n"
      },
      "source": [
        "We can see very slight changes in the Mean Squared Error for each of these models. We do not see a relevant change in these values across each model.\r\n",
        "\r\n",
        "If we want to check how well each model can predict the number of college applications, would be better to compare their **adjusted R2 score**. Which will give us an idea of how many data points fall within the regression line."
      ]
    },
    {
      "cell_type": "code",
      "metadata": {
        "colab": {
          "base_uri": "https://localhost:8080/"
        },
        "id": "Hk9n3gKXytkg",
        "outputId": "5fb5a5e4-f48e-43ba-9402-15d04b429d4e"
      },
      "source": [
        "r2_linear = r2_score(y_test, y_pred_b)\r\n",
        "r2_ridge = r2_score(y_test, y_pred_c)\r\n",
        "r2_lasso = r2_score(y_test, y_pred_d)\r\n",
        "\r\n",
        "def adjusted_r2(r2score,X_train):\r\n",
        "  '''Calculetes adjusted R2 for a given r2 score and training set'''\r\n",
        "  adjustedr2 = 1 - (((1-r2score)*(X_train.shape[0]-1))/ (X_train.shape[0] - X.shape[1]- 1))\r\n",
        "  return adjustedr2\r\n",
        "\r\n",
        "adjusted_r2_linear = adjusted_r2(r2_linear,X_train)\r\n",
        "adjusted_r2_ridge = adjusted_r2(r2_ridge,X_train)\r\n",
        "adjusted_r2_lasso = adjusted_r2(r2_lasso,X_train)\r\n",
        "\r\n",
        "print('''The Adjusted R² Score for the linear regression is {} \r\n",
        "The Adjusted R² Score for the ridge regression is {} \r\n",
        "The Adjusted R² Score for the lasso regression is {}'''.format(adjusted_r2_linear,adjusted_r2_ridge,adjusted_r2_lasso))\r\n"
      ],
      "execution_count": 73,
      "outputs": [
        {
          "output_type": "stream",
          "text": [
            "The Adjusted R² Score for the linear regression is 0.9059619499837186 \n",
            "The Adjusted R² Score for the ridge regression is 0.900493893284928 \n",
            "The Adjusted R² Score for the lasso regression is 0.8966468073947753\n"
          ],
          "name": "stdout"
        }
      ]
    },
    {
      "cell_type": "markdown",
      "metadata": {
        "id": "6UsmsIqG4-IM"
      },
      "source": [
        "As we can see above, these three model have a rather high Adjusted R2 Score, which leads me to conclude that the input variables are describing the our target variable very well. Given that the Adjusted R² is decreasing, we may conclude that the regularization penalty is reducing the coefficients of variable that are actually helping explaing the target variable."
      ]
    },
    {
      "cell_type": "markdown",
      "metadata": {
        "id": "TnHdKT8oMQ2n"
      },
      "source": [
        "\r\n",
        "---\r\n",
        "# QUESTION 6"
      ]
    },
    {
      "cell_type": "markdown",
      "metadata": {
        "id": "Y8eZLrjCViV8"
      },
      "source": [
        "Suppose we produce ten bootstrapped samples from a data set containing red and green\r\n",
        "classes. We then apply a classification tree to each bootstrapped sample and, for a specific\r\n",
        "value of X, produce 10 estimates of 𝑃 (𝑐𝑙𝑎𝑠𝑠 𝑖𝑠 𝑟𝑒𝑑 | 𝑋): 0.1, 0.15, 0.2, 0.2, 0.55, 0.6, 0.6, 0.65, 0.7, and 0.75\r\n",
        "\r\n",
        "![Figure 1: A partition of the predictor space and a decision tree](https://i.imgur.com/2dWJqH3.png)\r\n",
        "\r\n",
        "\r\n",
        "There are two common ways to combine these results together into a single class prediction.\r\n",
        "One is the majority vote approach. The second approach is to classify based on the average\r\n",
        "probability. In this example, what is the final classification under each of these two\r\n",
        "approaches?\r\n"
      ]
    },
    {
      "cell_type": "markdown",
      "metadata": {
        "id": "cEINd8oDZ5A7"
      },
      "source": [
        "Since there are only two possible classification (Green or Red), we know that P(red) = 1 - P(green).\r\n",
        "\r\n",
        "Therefore, in this case, we will classify the observation X as red when the combined 𝑃(𝑐𝑙𝑎𝑠𝑠 𝑖𝑠 𝑟𝑒𝑑 | 𝑋) > 0.5."
      ]
    },
    {
      "cell_type": "code",
      "metadata": {
        "id": "dOpQuFJnVfq7"
      },
      "source": [
        "P_red_given_x = pd.Series([0.1, 0.15, 0.2, 0.2, 0.55, 0.6, 0.6, 0.65, 0.7, 0.75])"
      ],
      "execution_count": 244,
      "outputs": []
    },
    {
      "cell_type": "code",
      "metadata": {
        "id": "aKkhI_LubVER"
      },
      "source": [
        "def get_classification(mode, p_series):\r\n",
        "  if mode == 'Majority':\r\n",
        "    if ((p_series > 0.5).sum() > len(p_series)/2) == True:\r\n",
        "      out= 'Red'\r\n",
        "    else:\r\n",
        "      out='Green'\r\n",
        "  elif mode == 'Average':\r\n",
        "    if (p_series.mean() > 0.5) == True:\r\n",
        "      out= 'Red'\r\n",
        "    else:\r\n",
        "      out='Green'  \r\n",
        "  else:\r\n",
        "    raise Exception('mode is not recognized, use \"Majority\" or \"Average\"')\r\n",
        "  return out"
      ],
      "execution_count": 268,
      "outputs": []
    },
    {
      "cell_type": "markdown",
      "metadata": {
        "id": "-zRCSn4jaiLJ"
      },
      "source": [
        "Majority vote consists in getting the most recurring classification across our samples. The check below returns `True`, which means that the classification is `Red`"
      ]
    },
    {
      "cell_type": "code",
      "metadata": {
        "colab": {
          "base_uri": "https://localhost:8080/",
          "height": 35
        },
        "id": "8-k7R9ybYixH",
        "outputId": "9f6847fb-fae7-420d-b671-01244b884bba"
      },
      "source": [
        "get_classification('Majority',P_red_given_x)"
      ],
      "execution_count": 269,
      "outputs": [
        {
          "output_type": "execute_result",
          "data": {
            "application/vnd.google.colaboratory.intrinsic+json": {
              "type": "string"
            },
            "text/plain": [
              "'Red'"
            ]
          },
          "metadata": {
            "tags": []
          },
          "execution_count": 269
        }
      ]
    },
    {
      "cell_type": "markdown",
      "metadata": {
        "id": "MexewFSSZzA3"
      },
      "source": [
        "Average probability means getting and expected probability by taking the average value of the probability of our samples. The check below returns `False`, which means that the classification is `Green`"
      ]
    },
    {
      "cell_type": "code",
      "metadata": {
        "colab": {
          "base_uri": "https://localhost:8080/",
          "height": 35
        },
        "id": "s2gYdF0pZaMb",
        "outputId": "a701ffd2-da67-4b04-847d-8c73493272e4"
      },
      "source": [
        "get_classification('Average',P_red_given_x)"
      ],
      "execution_count": 270,
      "outputs": [
        {
          "output_type": "execute_result",
          "data": {
            "application/vnd.google.colaboratory.intrinsic+json": {
              "type": "string"
            },
            "text/plain": [
              "'Green'"
            ]
          },
          "metadata": {
            "tags": []
          },
          "execution_count": 270
        }
      ]
    },
    {
      "cell_type": "markdown",
      "metadata": {
        "id": "Oz3Zz_w1MVQ4"
      },
      "source": [
        "\r\n",
        "---\r\n",
        "#QUESTION 7"
      ]
    },
    {
      "cell_type": "markdown",
      "metadata": {
        "id": "GulTp1yjswGb"
      },
      "source": [
        "Consider the [`USArrests`](https://forge.scilab.org/index.php/p/rdataset/source/tree/master/csv/datasets/USArrests.csv) data. We will now perform hierarchical clustering on the states."
      ]
    },
    {
      "cell_type": "markdown",
      "metadata": {
        "id": "lEMmPeQGh8ME"
      },
      "source": [
        "## a) Using hierarchical clustering with complete linkage and Euclidean distance, cluster the states."
      ]
    },
    {
      "cell_type": "code",
      "metadata": {
        "colab": {
          "base_uri": "https://localhost:8080/",
          "height": 204
        },
        "id": "J3Ei1yG8Mh7P",
        "outputId": "3faf697c-b141-4b66-bdee-77559c5bc5f9"
      },
      "source": [
        "q7_df = pd.read_csv('https://forge.scilab.org/index.php/p/rdataset/source/file/master/csv/datasets/USArrests.csv')\r\n",
        "q7_df.rename(columns={'Unnamed: 0':'State'},inplace=True)\r\n",
        "q7_df['State'] = q7_df['State'].str.upper()\r\n",
        "q7_df.sample(5)"
      ],
      "execution_count": null,
      "outputs": [
        {
          "output_type": "execute_result",
          "data": {
            "text/html": [
              "<div>\n",
              "<style scoped>\n",
              "    .dataframe tbody tr th:only-of-type {\n",
              "        vertical-align: middle;\n",
              "    }\n",
              "\n",
              "    .dataframe tbody tr th {\n",
              "        vertical-align: top;\n",
              "    }\n",
              "\n",
              "    .dataframe thead th {\n",
              "        text-align: right;\n",
              "    }\n",
              "</style>\n",
              "<table border=\"1\" class=\"dataframe\">\n",
              "  <thead>\n",
              "    <tr style=\"text-align: right;\">\n",
              "      <th></th>\n",
              "      <th>State</th>\n",
              "      <th>Murder</th>\n",
              "      <th>Assault</th>\n",
              "      <th>UrbanPop</th>\n",
              "      <th>Rape</th>\n",
              "    </tr>\n",
              "  </thead>\n",
              "  <tbody>\n",
              "    <tr>\n",
              "      <th>42</th>\n",
              "      <td>TEXAS</td>\n",
              "      <td>12.7</td>\n",
              "      <td>201</td>\n",
              "      <td>80</td>\n",
              "      <td>25.5</td>\n",
              "    </tr>\n",
              "    <tr>\n",
              "      <th>43</th>\n",
              "      <td>UTAH</td>\n",
              "      <td>3.2</td>\n",
              "      <td>120</td>\n",
              "      <td>80</td>\n",
              "      <td>22.9</td>\n",
              "    </tr>\n",
              "    <tr>\n",
              "      <th>45</th>\n",
              "      <td>VIRGINIA</td>\n",
              "      <td>8.5</td>\n",
              "      <td>156</td>\n",
              "      <td>63</td>\n",
              "      <td>20.7</td>\n",
              "    </tr>\n",
              "    <tr>\n",
              "      <th>23</th>\n",
              "      <td>MISSISSIPPI</td>\n",
              "      <td>16.1</td>\n",
              "      <td>259</td>\n",
              "      <td>44</td>\n",
              "      <td>17.1</td>\n",
              "    </tr>\n",
              "    <tr>\n",
              "      <th>30</th>\n",
              "      <td>NEW MEXICO</td>\n",
              "      <td>11.4</td>\n",
              "      <td>285</td>\n",
              "      <td>70</td>\n",
              "      <td>32.1</td>\n",
              "    </tr>\n",
              "  </tbody>\n",
              "</table>\n",
              "</div>"
            ],
            "text/plain": [
              "          State  Murder  Assault  UrbanPop  Rape\n",
              "42        TEXAS    12.7      201        80  25.5\n",
              "43         UTAH     3.2      120        80  22.9\n",
              "45     VIRGINIA     8.5      156        63  20.7\n",
              "23  MISSISSIPPI    16.1      259        44  17.1\n",
              "30   NEW MEXICO    11.4      285        70  32.1"
            ]
          },
          "metadata": {
            "tags": []
          },
          "execution_count": 13
        }
      ]
    },
    {
      "cell_type": "code",
      "metadata": {
        "id": "kIhbhIdH6UPl"
      },
      "source": [
        "q7_X = q7_df.iloc[:,1:]\r\n",
        "\r\n",
        "hc = AgglomerativeClustering(n_clusters = 50, affinity = 'euclidean', linkage = 'complete')\r\n",
        "y = hc.fit_predict(q7_X)\r\n",
        "\r\n",
        "clustered_df = pd.DataFrame(data = {'State':q7_df['State'],'Cluster_n50':y})"
      ],
      "execution_count": null,
      "outputs": []
    },
    {
      "cell_type": "markdown",
      "metadata": {
        "id": "wE8nAjoxszYC"
      },
      "source": [
        "## b) Cut the dendrogram at a height that results in three distinct clusters. Which states belong to which clusters?"
      ]
    },
    {
      "cell_type": "code",
      "metadata": {
        "id": "Z_AlpO81OKiJ"
      },
      "source": [
        "linkage = sch.linkage(q7_X,metric='euclidean', method = 'complete')"
      ],
      "execution_count": null,
      "outputs": []
    },
    {
      "cell_type": "code",
      "metadata": {
        "colab": {
          "base_uri": "https://localhost:8080/",
          "height": 664
        },
        "id": "iIqWELl9s5Rx",
        "outputId": "3e23d6d1-f1a4-4a61-8453-83d8f92675ad"
      },
      "source": [
        "#Plot Dendogram\r\n",
        "fig, axs = plt.subplots(figsize = (16,9),facecolor='w')\r\n",
        "fig.suptitle('US Arrests Dendogram',fontsize = 20, fontweight='bold')\r\n",
        "dendrogram = sch.dendrogram(linkage,ax=axs,color_threshold=0)\r\n",
        "\r\n",
        "#replace indexes for states in X axis labels\r\n",
        "labels = [item.get_text() for item in axs.get_xticklabels()]\r\n",
        "states_map = q7_df['State'].to_dict()\r\n",
        "axs.set_xticklabels([states_map[int(k)] for k in labels])\r\n",
        "\r\n",
        "#cut dendogram at three clusters\r\n",
        "axs.axhline(y=130, color='grey', linestyle='--',linewidth=3);"
      ],
      "execution_count": null,
      "outputs": [
        {
          "output_type": "display_data",
          "data": {
            "image/png": "[encoded data removed]",
            "text/plain": [
              "<Figure size 1152x648 with 1 Axes>"
            ]
          },
          "metadata": {
            "tags": []
          }
        }
      ]
    },
    {
      "cell_type": "code",
      "metadata": {
        "id": "XwNY1zAPK77n",
        "colab": {
          "base_uri": "https://localhost:8080/",
          "height": 1000
        },
        "outputId": "9d37bece-6a81-48ae-9e5d-c72a1fd6161e"
      },
      "source": [
        "fl = fcluster(linkage,3,criterion='maxclust')\r\n",
        "clustered_df['Cluster_n3'] = fl\r\n",
        "clustered_df"
      ],
      "execution_count": null,
      "outputs": [
        {
          "output_type": "execute_result",
          "data": {
            "text/html": [
              "<div>\n",
              "<style scoped>\n",
              "    .dataframe tbody tr th:only-of-type {\n",
              "        vertical-align: middle;\n",
              "    }\n",
              "\n",
              "    .dataframe tbody tr th {\n",
              "        vertical-align: top;\n",
              "    }\n",
              "\n",
              "    .dataframe thead th {\n",
              "        text-align: right;\n",
              "    }\n",
              "</style>\n",
              "<table border=\"1\" class=\"dataframe\">\n",
              "  <thead>\n",
              "    <tr style=\"text-align: right;\">\n",
              "      <th></th>\n",
              "      <th>State</th>\n",
              "      <th>Cluster_n50</th>\n",
              "      <th>Cluster_n3</th>\n",
              "    </tr>\n",
              "  </thead>\n",
              "  <tbody>\n",
              "    <tr>\n",
              "      <th>0</th>\n",
              "      <td>ALABAMA</td>\n",
              "      <td>30</td>\n",
              "      <td>1</td>\n",
              "    </tr>\n",
              "    <tr>\n",
              "      <th>1</th>\n",
              "      <td>ALASKA</td>\n",
              "      <td>37</td>\n",
              "      <td>1</td>\n",
              "    </tr>\n",
              "    <tr>\n",
              "      <th>2</th>\n",
              "      <td>ARIZONA</td>\n",
              "      <td>33</td>\n",
              "      <td>1</td>\n",
              "    </tr>\n",
              "    <tr>\n",
              "      <th>3</th>\n",
              "      <td>ARKANSAS</td>\n",
              "      <td>38</td>\n",
              "      <td>2</td>\n",
              "    </tr>\n",
              "    <tr>\n",
              "      <th>4</th>\n",
              "      <td>CALIFORNIA</td>\n",
              "      <td>29</td>\n",
              "      <td>1</td>\n",
              "    </tr>\n",
              "    <tr>\n",
              "      <th>5</th>\n",
              "      <td>COLORADO</td>\n",
              "      <td>32</td>\n",
              "      <td>2</td>\n",
              "    </tr>\n",
              "    <tr>\n",
              "      <th>6</th>\n",
              "      <td>CONNECTICUT</td>\n",
              "      <td>43</td>\n",
              "      <td>3</td>\n",
              "    </tr>\n",
              "    <tr>\n",
              "      <th>7</th>\n",
              "      <td>DELAWARE</td>\n",
              "      <td>27</td>\n",
              "      <td>1</td>\n",
              "    </tr>\n",
              "    <tr>\n",
              "      <th>8</th>\n",
              "      <td>FLORIDA</td>\n",
              "      <td>47</td>\n",
              "      <td>1</td>\n",
              "    </tr>\n",
              "    <tr>\n",
              "      <th>9</th>\n",
              "      <td>GEORGIA</td>\n",
              "      <td>39</td>\n",
              "      <td>2</td>\n",
              "    </tr>\n",
              "    <tr>\n",
              "      <th>10</th>\n",
              "      <td>HAWAII</td>\n",
              "      <td>31</td>\n",
              "      <td>3</td>\n",
              "    </tr>\n",
              "    <tr>\n",
              "      <th>11</th>\n",
              "      <td>IDAHO</td>\n",
              "      <td>15</td>\n",
              "      <td>3</td>\n",
              "    </tr>\n",
              "    <tr>\n",
              "      <th>12</th>\n",
              "      <td>ILLINOIS</td>\n",
              "      <td>46</td>\n",
              "      <td>1</td>\n",
              "    </tr>\n",
              "    <tr>\n",
              "      <th>13</th>\n",
              "      <td>INDIANA</td>\n",
              "      <td>48</td>\n",
              "      <td>3</td>\n",
              "    </tr>\n",
              "    <tr>\n",
              "      <th>14</th>\n",
              "      <td>IOWA</td>\n",
              "      <td>49</td>\n",
              "      <td>3</td>\n",
              "    </tr>\n",
              "    <tr>\n",
              "      <th>15</th>\n",
              "      <td>KANSAS</td>\n",
              "      <td>24</td>\n",
              "      <td>3</td>\n",
              "    </tr>\n",
              "    <tr>\n",
              "      <th>16</th>\n",
              "      <td>KENTUCKY</td>\n",
              "      <td>23</td>\n",
              "      <td>3</td>\n",
              "    </tr>\n",
              "    <tr>\n",
              "      <th>17</th>\n",
              "      <td>LOUISIANA</td>\n",
              "      <td>34</td>\n",
              "      <td>1</td>\n",
              "    </tr>\n",
              "    <tr>\n",
              "      <th>18</th>\n",
              "      <td>MAINE</td>\n",
              "      <td>42</td>\n",
              "      <td>3</td>\n",
              "    </tr>\n",
              "    <tr>\n",
              "      <th>19</th>\n",
              "      <td>MARYLAND</td>\n",
              "      <td>28</td>\n",
              "      <td>1</td>\n",
              "    </tr>\n",
              "    <tr>\n",
              "      <th>20</th>\n",
              "      <td>MASSACHUSETTS</td>\n",
              "      <td>40</td>\n",
              "      <td>2</td>\n",
              "    </tr>\n",
              "    <tr>\n",
              "      <th>21</th>\n",
              "      <td>MICHIGAN</td>\n",
              "      <td>35</td>\n",
              "      <td>1</td>\n",
              "    </tr>\n",
              "    <tr>\n",
              "      <th>22</th>\n",
              "      <td>MINNESOTA</td>\n",
              "      <td>25</td>\n",
              "      <td>3</td>\n",
              "    </tr>\n",
              "    <tr>\n",
              "      <th>23</th>\n",
              "      <td>MISSISSIPPI</td>\n",
              "      <td>11</td>\n",
              "      <td>1</td>\n",
              "    </tr>\n",
              "    <tr>\n",
              "      <th>24</th>\n",
              "      <td>MISSOURI</td>\n",
              "      <td>41</td>\n",
              "      <td>2</td>\n",
              "    </tr>\n",
              "    <tr>\n",
              "      <th>25</th>\n",
              "      <td>MONTANA</td>\n",
              "      <td>13</td>\n",
              "      <td>3</td>\n",
              "    </tr>\n",
              "    <tr>\n",
              "      <th>26</th>\n",
              "      <td>NEBRASKA</td>\n",
              "      <td>16</td>\n",
              "      <td>3</td>\n",
              "    </tr>\n",
              "    <tr>\n",
              "      <th>27</th>\n",
              "      <td>NEVADA</td>\n",
              "      <td>19</td>\n",
              "      <td>1</td>\n",
              "    </tr>\n",
              "    <tr>\n",
              "      <th>28</th>\n",
              "      <td>NEW HAMPSHIRE</td>\n",
              "      <td>26</td>\n",
              "      <td>3</td>\n",
              "    </tr>\n",
              "    <tr>\n",
              "      <th>29</th>\n",
              "      <td>NEW JERSEY</td>\n",
              "      <td>18</td>\n",
              "      <td>2</td>\n",
              "    </tr>\n",
              "    <tr>\n",
              "      <th>30</th>\n",
              "      <td>NEW MEXICO</td>\n",
              "      <td>12</td>\n",
              "      <td>1</td>\n",
              "    </tr>\n",
              "    <tr>\n",
              "      <th>31</th>\n",
              "      <td>NEW YORK</td>\n",
              "      <td>14</td>\n",
              "      <td>1</td>\n",
              "    </tr>\n",
              "    <tr>\n",
              "      <th>32</th>\n",
              "      <td>NORTH CAROLINA</td>\n",
              "      <td>36</td>\n",
              "      <td>1</td>\n",
              "    </tr>\n",
              "    <tr>\n",
              "      <th>33</th>\n",
              "      <td>NORTH DAKOTA</td>\n",
              "      <td>17</td>\n",
              "      <td>3</td>\n",
              "    </tr>\n",
              "    <tr>\n",
              "      <th>34</th>\n",
              "      <td>OHIO</td>\n",
              "      <td>45</td>\n",
              "      <td>3</td>\n",
              "    </tr>\n",
              "    <tr>\n",
              "      <th>35</th>\n",
              "      <td>OKLAHOMA</td>\n",
              "      <td>44</td>\n",
              "      <td>2</td>\n",
              "    </tr>\n",
              "    <tr>\n",
              "      <th>36</th>\n",
              "      <td>OREGON</td>\n",
              "      <td>20</td>\n",
              "      <td>2</td>\n",
              "    </tr>\n",
              "    <tr>\n",
              "      <th>37</th>\n",
              "      <td>PENNSYLVANIA</td>\n",
              "      <td>9</td>\n",
              "      <td>3</td>\n",
              "    </tr>\n",
              "    <tr>\n",
              "      <th>38</th>\n",
              "      <td>RHODE ISLAND</td>\n",
              "      <td>5</td>\n",
              "      <td>2</td>\n",
              "    </tr>\n",
              "    <tr>\n",
              "      <th>39</th>\n",
              "      <td>SOUTH CAROLINA</td>\n",
              "      <td>6</td>\n",
              "      <td>1</td>\n",
              "    </tr>\n",
              "    <tr>\n",
              "      <th>40</th>\n",
              "      <td>SOUTH DAKOTA</td>\n",
              "      <td>21</td>\n",
              "      <td>3</td>\n",
              "    </tr>\n",
              "    <tr>\n",
              "      <th>41</th>\n",
              "      <td>TENNESSEE</td>\n",
              "      <td>22</td>\n",
              "      <td>2</td>\n",
              "    </tr>\n",
              "    <tr>\n",
              "      <th>42</th>\n",
              "      <td>TEXAS</td>\n",
              "      <td>7</td>\n",
              "      <td>2</td>\n",
              "    </tr>\n",
              "    <tr>\n",
              "      <th>43</th>\n",
              "      <td>UTAH</td>\n",
              "      <td>10</td>\n",
              "      <td>3</td>\n",
              "    </tr>\n",
              "    <tr>\n",
              "      <th>44</th>\n",
              "      <td>VERMONT</td>\n",
              "      <td>8</td>\n",
              "      <td>3</td>\n",
              "    </tr>\n",
              "    <tr>\n",
              "      <th>45</th>\n",
              "      <td>VIRGINIA</td>\n",
              "      <td>2</td>\n",
              "      <td>2</td>\n",
              "    </tr>\n",
              "    <tr>\n",
              "      <th>46</th>\n",
              "      <td>WASHINGTON</td>\n",
              "      <td>4</td>\n",
              "      <td>2</td>\n",
              "    </tr>\n",
              "    <tr>\n",
              "      <th>47</th>\n",
              "      <td>WEST VIRGINIA</td>\n",
              "      <td>3</td>\n",
              "      <td>3</td>\n",
              "    </tr>\n",
              "    <tr>\n",
              "      <th>48</th>\n",
              "      <td>WISCONSIN</td>\n",
              "      <td>1</td>\n",
              "      <td>3</td>\n",
              "    </tr>\n",
              "    <tr>\n",
              "      <th>49</th>\n",
              "      <td>WYOMING</td>\n",
              "      <td>0</td>\n",
              "      <td>2</td>\n",
              "    </tr>\n",
              "  </tbody>\n",
              "</table>\n",
              "</div>"
            ],
            "text/plain": [
              "             State  Cluster_n50  Cluster_n3\n",
              "0          ALABAMA           30           1\n",
              "1           ALASKA           37           1\n",
              "2          ARIZONA           33           1\n",
              "3         ARKANSAS           38           2\n",
              "4       CALIFORNIA           29           1\n",
              "5         COLORADO           32           2\n",
              "6      CONNECTICUT           43           3\n",
              "7         DELAWARE           27           1\n",
              "8          FLORIDA           47           1\n",
              "9          GEORGIA           39           2\n",
              "10          HAWAII           31           3\n",
              "11           IDAHO           15           3\n",
              "12        ILLINOIS           46           1\n",
              "13         INDIANA           48           3\n",
              "14            IOWA           49           3\n",
              "15          KANSAS           24           3\n",
              "16        KENTUCKY           23           3\n",
              "17       LOUISIANA           34           1\n",
              "18           MAINE           42           3\n",
              "19        MARYLAND           28           1\n",
              "20   MASSACHUSETTS           40           2\n",
              "21        MICHIGAN           35           1\n",
              "22       MINNESOTA           25           3\n",
              "23     MISSISSIPPI           11           1\n",
              "24        MISSOURI           41           2\n",
              "25         MONTANA           13           3\n",
              "26        NEBRASKA           16           3\n",
              "27          NEVADA           19           1\n",
              "28   NEW HAMPSHIRE           26           3\n",
              "29      NEW JERSEY           18           2\n",
              "30      NEW MEXICO           12           1\n",
              "31        NEW YORK           14           1\n",
              "32  NORTH CAROLINA           36           1\n",
              "33    NORTH DAKOTA           17           3\n",
              "34            OHIO           45           3\n",
              "35        OKLAHOMA           44           2\n",
              "36          OREGON           20           2\n",
              "37    PENNSYLVANIA            9           3\n",
              "38    RHODE ISLAND            5           2\n",
              "39  SOUTH CAROLINA            6           1\n",
              "40    SOUTH DAKOTA           21           3\n",
              "41       TENNESSEE           22           2\n",
              "42           TEXAS            7           2\n",
              "43            UTAH           10           3\n",
              "44         VERMONT            8           3\n",
              "45        VIRGINIA            2           2\n",
              "46      WASHINGTON            4           2\n",
              "47   WEST VIRGINIA            3           3\n",
              "48       WISCONSIN            1           3\n",
              "49         WYOMING            0           2"
            ]
          },
          "metadata": {
            "tags": []
          },
          "execution_count": 17
        }
      ]
    },
    {
      "cell_type": "markdown",
      "metadata": {
        "id": "rYZMuyoWs7C3"
      },
      "source": [
        "## c) Hierarchically cluster the states using complete linkage and Euclidean distance, after scaling the variables to have standard deviation one."
      ]
    },
    {
      "cell_type": "code",
      "metadata": {
        "colab": {
          "base_uri": "https://localhost:8080/"
        },
        "id": "v2N1v_aJTdC2",
        "outputId": "1128c364-9dc3-4c80-f14b-a3232059f297"
      },
      "source": [
        "q7c_X = q7_X.copy()\r\n",
        "\r\n",
        "scaled = StandardScaler().fit_transform(q7c_X)\r\n",
        "q7c_X = pd.DataFrame(scaled, columns = q7c_X.columns)\r\n",
        "\r\n",
        "q7c_X.std(ddof=0)"
      ],
      "execution_count": null,
      "outputs": [
        {
          "output_type": "execute_result",
          "data": {
            "text/plain": [
              "Murder      1.0\n",
              "Assault     1.0\n",
              "UrbanPop    1.0\n",
              "Rape        1.0\n",
              "dtype: float64"
            ]
          },
          "metadata": {
            "tags": []
          },
          "execution_count": 18
        }
      ]
    },
    {
      "cell_type": "code",
      "metadata": {
        "id": "A7AhFjjMRRZY",
        "colab": {
          "base_uri": "https://localhost:8080/",
          "height": 1000
        },
        "outputId": "eac56d5c-7428-487e-f5c4-327612e063d1"
      },
      "source": [
        "linkage_scld = sch.linkage(q7c_X,metric='euclidean', method = 'complete')\r\n",
        "fl_scld = fcluster(linkage_scld,3,criterion='maxclust')\r\n",
        "\r\n",
        "clustered_df['Cluster_n3_scaled'] = fl_scld\r\n",
        "\r\n",
        "clustered_df"
      ],
      "execution_count": null,
      "outputs": [
        {
          "output_type": "execute_result",
          "data": {
            "text/html": [
              "<div>\n",
              "<style scoped>\n",
              "    .dataframe tbody tr th:only-of-type {\n",
              "        vertical-align: middle;\n",
              "    }\n",
              "\n",
              "    .dataframe tbody tr th {\n",
              "        vertical-align: top;\n",
              "    }\n",
              "\n",
              "    .dataframe thead th {\n",
              "        text-align: right;\n",
              "    }\n",
              "</style>\n",
              "<table border=\"1\" class=\"dataframe\">\n",
              "  <thead>\n",
              "    <tr style=\"text-align: right;\">\n",
              "      <th></th>\n",
              "      <th>State</th>\n",
              "      <th>Cluster_n50</th>\n",
              "      <th>Cluster_n3</th>\n",
              "      <th>Cluster_n3_scaled</th>\n",
              "    </tr>\n",
              "  </thead>\n",
              "  <tbody>\n",
              "    <tr>\n",
              "      <th>0</th>\n",
              "      <td>ALABAMA</td>\n",
              "      <td>30</td>\n",
              "      <td>1</td>\n",
              "      <td>3</td>\n",
              "    </tr>\n",
              "    <tr>\n",
              "      <th>1</th>\n",
              "      <td>ALASKA</td>\n",
              "      <td>37</td>\n",
              "      <td>1</td>\n",
              "      <td>3</td>\n",
              "    </tr>\n",
              "    <tr>\n",
              "      <th>2</th>\n",
              "      <td>ARIZONA</td>\n",
              "      <td>33</td>\n",
              "      <td>1</td>\n",
              "      <td>2</td>\n",
              "    </tr>\n",
              "    <tr>\n",
              "      <th>3</th>\n",
              "      <td>ARKANSAS</td>\n",
              "      <td>38</td>\n",
              "      <td>2</td>\n",
              "      <td>1</td>\n",
              "    </tr>\n",
              "    <tr>\n",
              "      <th>4</th>\n",
              "      <td>CALIFORNIA</td>\n",
              "      <td>29</td>\n",
              "      <td>1</td>\n",
              "      <td>2</td>\n",
              "    </tr>\n",
              "    <tr>\n",
              "      <th>5</th>\n",
              "      <td>COLORADO</td>\n",
              "      <td>32</td>\n",
              "      <td>2</td>\n",
              "      <td>2</td>\n",
              "    </tr>\n",
              "    <tr>\n",
              "      <th>6</th>\n",
              "      <td>CONNECTICUT</td>\n",
              "      <td>43</td>\n",
              "      <td>3</td>\n",
              "      <td>1</td>\n",
              "    </tr>\n",
              "    <tr>\n",
              "      <th>7</th>\n",
              "      <td>DELAWARE</td>\n",
              "      <td>27</td>\n",
              "      <td>1</td>\n",
              "      <td>1</td>\n",
              "    </tr>\n",
              "    <tr>\n",
              "      <th>8</th>\n",
              "      <td>FLORIDA</td>\n",
              "      <td>47</td>\n",
              "      <td>1</td>\n",
              "      <td>2</td>\n",
              "    </tr>\n",
              "    <tr>\n",
              "      <th>9</th>\n",
              "      <td>GEORGIA</td>\n",
              "      <td>39</td>\n",
              "      <td>2</td>\n",
              "      <td>3</td>\n",
              "    </tr>\n",
              "    <tr>\n",
              "      <th>10</th>\n",
              "      <td>HAWAII</td>\n",
              "      <td>31</td>\n",
              "      <td>3</td>\n",
              "      <td>1</td>\n",
              "    </tr>\n",
              "    <tr>\n",
              "      <th>11</th>\n",
              "      <td>IDAHO</td>\n",
              "      <td>15</td>\n",
              "      <td>3</td>\n",
              "      <td>1</td>\n",
              "    </tr>\n",
              "    <tr>\n",
              "      <th>12</th>\n",
              "      <td>ILLINOIS</td>\n",
              "      <td>46</td>\n",
              "      <td>1</td>\n",
              "      <td>2</td>\n",
              "    </tr>\n",
              "    <tr>\n",
              "      <th>13</th>\n",
              "      <td>INDIANA</td>\n",
              "      <td>48</td>\n",
              "      <td>3</td>\n",
              "      <td>1</td>\n",
              "    </tr>\n",
              "    <tr>\n",
              "      <th>14</th>\n",
              "      <td>IOWA</td>\n",
              "      <td>49</td>\n",
              "      <td>3</td>\n",
              "      <td>1</td>\n",
              "    </tr>\n",
              "    <tr>\n",
              "      <th>15</th>\n",
              "      <td>KANSAS</td>\n",
              "      <td>24</td>\n",
              "      <td>3</td>\n",
              "      <td>1</td>\n",
              "    </tr>\n",
              "    <tr>\n",
              "      <th>16</th>\n",
              "      <td>KENTUCKY</td>\n",
              "      <td>23</td>\n",
              "      <td>3</td>\n",
              "      <td>1</td>\n",
              "    </tr>\n",
              "    <tr>\n",
              "      <th>17</th>\n",
              "      <td>LOUISIANA</td>\n",
              "      <td>34</td>\n",
              "      <td>1</td>\n",
              "      <td>3</td>\n",
              "    </tr>\n",
              "    <tr>\n",
              "      <th>18</th>\n",
              "      <td>MAINE</td>\n",
              "      <td>42</td>\n",
              "      <td>3</td>\n",
              "      <td>1</td>\n",
              "    </tr>\n",
              "    <tr>\n",
              "      <th>19</th>\n",
              "      <td>MARYLAND</td>\n",
              "      <td>28</td>\n",
              "      <td>1</td>\n",
              "      <td>2</td>\n",
              "    </tr>\n",
              "    <tr>\n",
              "      <th>20</th>\n",
              "      <td>MASSACHUSETTS</td>\n",
              "      <td>40</td>\n",
              "      <td>2</td>\n",
              "      <td>1</td>\n",
              "    </tr>\n",
              "    <tr>\n",
              "      <th>21</th>\n",
              "      <td>MICHIGAN</td>\n",
              "      <td>35</td>\n",
              "      <td>1</td>\n",
              "      <td>2</td>\n",
              "    </tr>\n",
              "    <tr>\n",
              "      <th>22</th>\n",
              "      <td>MINNESOTA</td>\n",
              "      <td>25</td>\n",
              "      <td>3</td>\n",
              "      <td>1</td>\n",
              "    </tr>\n",
              "    <tr>\n",
              "      <th>23</th>\n",
              "      <td>MISSISSIPPI</td>\n",
              "      <td>11</td>\n",
              "      <td>1</td>\n",
              "      <td>3</td>\n",
              "    </tr>\n",
              "    <tr>\n",
              "      <th>24</th>\n",
              "      <td>MISSOURI</td>\n",
              "      <td>41</td>\n",
              "      <td>2</td>\n",
              "      <td>1</td>\n",
              "    </tr>\n",
              "    <tr>\n",
              "      <th>25</th>\n",
              "      <td>MONTANA</td>\n",
              "      <td>13</td>\n",
              "      <td>3</td>\n",
              "      <td>1</td>\n",
              "    </tr>\n",
              "    <tr>\n",
              "      <th>26</th>\n",
              "      <td>NEBRASKA</td>\n",
              "      <td>16</td>\n",
              "      <td>3</td>\n",
              "      <td>1</td>\n",
              "    </tr>\n",
              "    <tr>\n",
              "      <th>27</th>\n",
              "      <td>NEVADA</td>\n",
              "      <td>19</td>\n",
              "      <td>1</td>\n",
              "      <td>2</td>\n",
              "    </tr>\n",
              "    <tr>\n",
              "      <th>28</th>\n",
              "      <td>NEW HAMPSHIRE</td>\n",
              "      <td>26</td>\n",
              "      <td>3</td>\n",
              "      <td>1</td>\n",
              "    </tr>\n",
              "    <tr>\n",
              "      <th>29</th>\n",
              "      <td>NEW JERSEY</td>\n",
              "      <td>18</td>\n",
              "      <td>2</td>\n",
              "      <td>1</td>\n",
              "    </tr>\n",
              "    <tr>\n",
              "      <th>30</th>\n",
              "      <td>NEW MEXICO</td>\n",
              "      <td>12</td>\n",
              "      <td>1</td>\n",
              "      <td>2</td>\n",
              "    </tr>\n",
              "    <tr>\n",
              "      <th>31</th>\n",
              "      <td>NEW YORK</td>\n",
              "      <td>14</td>\n",
              "      <td>1</td>\n",
              "      <td>2</td>\n",
              "    </tr>\n",
              "    <tr>\n",
              "      <th>32</th>\n",
              "      <td>NORTH CAROLINA</td>\n",
              "      <td>36</td>\n",
              "      <td>1</td>\n",
              "      <td>3</td>\n",
              "    </tr>\n",
              "    <tr>\n",
              "      <th>33</th>\n",
              "      <td>NORTH DAKOTA</td>\n",
              "      <td>17</td>\n",
              "      <td>3</td>\n",
              "      <td>1</td>\n",
              "    </tr>\n",
              "    <tr>\n",
              "      <th>34</th>\n",
              "      <td>OHIO</td>\n",
              "      <td>45</td>\n",
              "      <td>3</td>\n",
              "      <td>1</td>\n",
              "    </tr>\n",
              "    <tr>\n",
              "      <th>35</th>\n",
              "      <td>OKLAHOMA</td>\n",
              "      <td>44</td>\n",
              "      <td>2</td>\n",
              "      <td>1</td>\n",
              "    </tr>\n",
              "    <tr>\n",
              "      <th>36</th>\n",
              "      <td>OREGON</td>\n",
              "      <td>20</td>\n",
              "      <td>2</td>\n",
              "      <td>1</td>\n",
              "    </tr>\n",
              "    <tr>\n",
              "      <th>37</th>\n",
              "      <td>PENNSYLVANIA</td>\n",
              "      <td>9</td>\n",
              "      <td>3</td>\n",
              "      <td>1</td>\n",
              "    </tr>\n",
              "    <tr>\n",
              "      <th>38</th>\n",
              "      <td>RHODE ISLAND</td>\n",
              "      <td>5</td>\n",
              "      <td>2</td>\n",
              "      <td>1</td>\n",
              "    </tr>\n",
              "    <tr>\n",
              "      <th>39</th>\n",
              "      <td>SOUTH CAROLINA</td>\n",
              "      <td>6</td>\n",
              "      <td>1</td>\n",
              "      <td>3</td>\n",
              "    </tr>\n",
              "    <tr>\n",
              "      <th>40</th>\n",
              "      <td>SOUTH DAKOTA</td>\n",
              "      <td>21</td>\n",
              "      <td>3</td>\n",
              "      <td>1</td>\n",
              "    </tr>\n",
              "    <tr>\n",
              "      <th>41</th>\n",
              "      <td>TENNESSEE</td>\n",
              "      <td>22</td>\n",
              "      <td>2</td>\n",
              "      <td>3</td>\n",
              "    </tr>\n",
              "    <tr>\n",
              "      <th>42</th>\n",
              "      <td>TEXAS</td>\n",
              "      <td>7</td>\n",
              "      <td>2</td>\n",
              "      <td>2</td>\n",
              "    </tr>\n",
              "    <tr>\n",
              "      <th>43</th>\n",
              "      <td>UTAH</td>\n",
              "      <td>10</td>\n",
              "      <td>3</td>\n",
              "      <td>1</td>\n",
              "    </tr>\n",
              "    <tr>\n",
              "      <th>44</th>\n",
              "      <td>VERMONT</td>\n",
              "      <td>8</td>\n",
              "      <td>3</td>\n",
              "      <td>1</td>\n",
              "    </tr>\n",
              "    <tr>\n",
              "      <th>45</th>\n",
              "      <td>VIRGINIA</td>\n",
              "      <td>2</td>\n",
              "      <td>2</td>\n",
              "      <td>1</td>\n",
              "    </tr>\n",
              "    <tr>\n",
              "      <th>46</th>\n",
              "      <td>WASHINGTON</td>\n",
              "      <td>4</td>\n",
              "      <td>2</td>\n",
              "      <td>1</td>\n",
              "    </tr>\n",
              "    <tr>\n",
              "      <th>47</th>\n",
              "      <td>WEST VIRGINIA</td>\n",
              "      <td>3</td>\n",
              "      <td>3</td>\n",
              "      <td>1</td>\n",
              "    </tr>\n",
              "    <tr>\n",
              "      <th>48</th>\n",
              "      <td>WISCONSIN</td>\n",
              "      <td>1</td>\n",
              "      <td>3</td>\n",
              "      <td>1</td>\n",
              "    </tr>\n",
              "    <tr>\n",
              "      <th>49</th>\n",
              "      <td>WYOMING</td>\n",
              "      <td>0</td>\n",
              "      <td>2</td>\n",
              "      <td>1</td>\n",
              "    </tr>\n",
              "  </tbody>\n",
              "</table>\n",
              "</div>"
            ],
            "text/plain": [
              "             State  Cluster_n50  Cluster_n3  Cluster_n3_scaled\n",
              "0          ALABAMA           30           1                  3\n",
              "1           ALASKA           37           1                  3\n",
              "2          ARIZONA           33           1                  2\n",
              "3         ARKANSAS           38           2                  1\n",
              "4       CALIFORNIA           29           1                  2\n",
              "5         COLORADO           32           2                  2\n",
              "6      CONNECTICUT           43           3                  1\n",
              "7         DELAWARE           27           1                  1\n",
              "8          FLORIDA           47           1                  2\n",
              "9          GEORGIA           39           2                  3\n",
              "10          HAWAII           31           3                  1\n",
              "11           IDAHO           15           3                  1\n",
              "12        ILLINOIS           46           1                  2\n",
              "13         INDIANA           48           3                  1\n",
              "14            IOWA           49           3                  1\n",
              "15          KANSAS           24           3                  1\n",
              "16        KENTUCKY           23           3                  1\n",
              "17       LOUISIANA           34           1                  3\n",
              "18           MAINE           42           3                  1\n",
              "19        MARYLAND           28           1                  2\n",
              "20   MASSACHUSETTS           40           2                  1\n",
              "21        MICHIGAN           35           1                  2\n",
              "22       MINNESOTA           25           3                  1\n",
              "23     MISSISSIPPI           11           1                  3\n",
              "24        MISSOURI           41           2                  1\n",
              "25         MONTANA           13           3                  1\n",
              "26        NEBRASKA           16           3                  1\n",
              "27          NEVADA           19           1                  2\n",
              "28   NEW HAMPSHIRE           26           3                  1\n",
              "29      NEW JERSEY           18           2                  1\n",
              "30      NEW MEXICO           12           1                  2\n",
              "31        NEW YORK           14           1                  2\n",
              "32  NORTH CAROLINA           36           1                  3\n",
              "33    NORTH DAKOTA           17           3                  1\n",
              "34            OHIO           45           3                  1\n",
              "35        OKLAHOMA           44           2                  1\n",
              "36          OREGON           20           2                  1\n",
              "37    PENNSYLVANIA            9           3                  1\n",
              "38    RHODE ISLAND            5           2                  1\n",
              "39  SOUTH CAROLINA            6           1                  3\n",
              "40    SOUTH DAKOTA           21           3                  1\n",
              "41       TENNESSEE           22           2                  3\n",
              "42           TEXAS            7           2                  2\n",
              "43            UTAH           10           3                  1\n",
              "44         VERMONT            8           3                  1\n",
              "45        VIRGINIA            2           2                  1\n",
              "46      WASHINGTON            4           2                  1\n",
              "47   WEST VIRGINIA            3           3                  1\n",
              "48       WISCONSIN            1           3                  1\n",
              "49         WYOMING            0           2                  1"
            ]
          },
          "metadata": {
            "tags": []
          },
          "execution_count": 19
        }
      ]
    },
    {
      "cell_type": "markdown",
      "metadata": {
        "id": "NZB3oXBjs9vi"
      },
      "source": [
        "## d) What effect does scaling the variables have on the hierarchical clustering obtained? In your opinion, should the variables be scaled before the inter-observation dissimilarities are computed? Provide a justification for your answer."
      ]
    },
    {
      "cell_type": "markdown",
      "metadata": {
        "id": "dRf49ooBUGhh"
      },
      "source": [
        "We can clearly see in fig 1 and fig 2 that scaling the features have affected the Dendogram and the final clustering. We can see that the interval to acquire three clusters, for example became very slim after the standardization. Also, the height of our dendogram greatly decreased after scaling.\r\n",
        "\r\n",
        "In general principle, clustering algorithms are distance-based, which means that changes in the measurement units used in any given features will affect the final output. If all feature are to be taken into consideration equally, they should be standardized in some form.\r\n",
        "\r\n",
        "The image below shows how a change in measurement unit can distort the feature space and produce different distances.\r\n",
        "\r\n",
        "<center><img src=\"https://i.imgur.com/QMnv9NJ.png\" width=\"500\"/></center>\r\n",
        "\r\n",
        "In this particular case, the first issues that would come to mind is the difference in population across states. If the `Murder`,`Assault` and `Rape` were not treated in someway, we would likely end up clusting states with similar population.\r\n",
        "\r\n",
        "Looking at the given dataset, these three features seem to have been scaled in someone (likely divided by a certain number of habitants). Meanwhile `UrbanPop` seens to be the percentage of people from that state living in Urban Area, which is a completly different metric from the other feature. Which makes stardardization necessary in my opinion"
      ]
    },
    {
      "cell_type": "code",
      "metadata": {
        "colab": {
          "base_uri": "https://localhost:8080/",
          "height": 602
        },
        "id": "XHan5CYWRfyG",
        "outputId": "13a6265c-bb73-468b-8b83-b3c61e1ec235"
      },
      "source": [
        "#PLOT FIG 1\r\n",
        "fig, axs = plt.subplots(1,2,figsize=(20,8))\r\n",
        "fig.suptitle('fig 1: US States Clustarization Dendogram Comparison',fontsize = 20, fontweight='bold')\r\n",
        "\r\n",
        "axs[0].set_title('Clusters with unscaled data')\r\n",
        "unscaled_dendogram = sch.dendrogram(linkage,ax=axs[0],color_threshold=0, link_color_func=lambda x: \"#000000\")\r\n",
        "axs[0].set_xticklabels([states_map[int(k)] for k in labels])\r\n",
        "\r\n",
        "axs[1].set_title('Clusters with scaled data')\r\n",
        "scaled_dendogram = sch.dendrogram(linkage_scld,ax=axs[1],color_threshold=0,link_color_func=lambda x: \"#000000\")\r\n",
        "axs[1].set_xticklabels([states_map[int(k)] for k in labels]);"
      ],
      "execution_count": null,
      "outputs": [
        {
          "output_type": "display_data",
          "data": {
            "image/png": "[encoded data removed]",
            "text/plain": [
              "<Figure size 1440x576 with 2 Axes>"
            ]
          },
          "metadata": {
            "tags": [],
            "needs_background": "light"
          }
        }
      ]
    },
    {
      "cell_type": "code",
      "metadata": {
        "colab": {
          "base_uri": "https://localhost:8080/",
          "height": 501
        },
        "id": "3lG1jugi6Wn-",
        "outputId": "a563340b-db22-405a-b25b-a8b4b6e54b29"
      },
      "source": [
        "#PLOT FIG 2\r\n",
        "states = geopandas.read_file('https://opendata.arcgis.com/datasets/1b02c87f62d24508970dc1a6df80c98e_0.geojson')\r\n",
        "states = states.to_crs(\"EPSG:3395\")\r\n",
        "cluster_colors = ['darkblue','darkgreen','darkorange']\r\n",
        "\r\n",
        "fig, axs = plt.subplots(1,2,figsize=(20,8))\r\n",
        "fig.suptitle('fig 2: US States Clustarization Map Comparison',fontsize = 20, fontweight='bold')\r\n",
        "\r\n",
        "#Plot 1 - Unscaled data\r\n",
        "axs[0].set_title('Clusters with unscaled data')\r\n",
        "for i in set(clustered_df['Cluster_n3']):\r\n",
        "  states_in_cluster = list(clustered_df.loc[clustered_df['Cluster_n3']==i]['State'])\r\n",
        "  states[states['State_Name'].isin(states_in_cluster)].plot(ax=axs[0],color=cluster_colors[i-1],legend=True)\r\n",
        "axs[0].axes.xaxis.set_visible(False)\r\n",
        "axs[0].axes.yaxis.set_visible(False)\r\n",
        "\r\n",
        "#Plot 2 - Scaled data\r\n",
        "axs[1].set_title('Clusters with scaled data')\r\n",
        "for i in set(clustered_df['Cluster_n3_scaled']):\r\n",
        "  states_in_cluster = list(clustered_df.loc[clustered_df['Cluster_n3_scaled']==i]['State'])\r\n",
        "  states[states['State_Name'].isin(states_in_cluster)].plot(ax=axs[1],color=cluster_colors[i-1],label=i)\r\n",
        "axs[1].axes.xaxis.set_visible(False)\r\n",
        "axs[1].axes.yaxis.set_visible(False)"
      ],
      "execution_count": null,
      "outputs": [
        {
          "output_type": "display_data",
          "data": {
            "image/png": "[encoded data removed]",
            "text/plain": [
              "<Figure size 1440x576 with 2 Axes>"
            ]
          },
          "metadata": {
            "tags": [],
            "needs_background": "light"
          }
        }
      ]
    }
  ]
}